{
  "cells": [
    {
      "cell_type": "markdown",
      "metadata": {
        "id": "view-in-github",
        "colab_type": "text"
      },
      "source": [
        "<a href=\"https://colab.research.google.com/github/karou1182001/NLPAssignments/blob/main/Assignment3/Intro_to_RNN.ipynb\" target=\"_parent\"><img src=\"https://colab.research.google.com/assets/colab-badge.svg\" alt=\"Open In Colab\"/></a>"
      ]
    },
    {
      "cell_type": "markdown",
      "metadata": {
        "id": "PuInr3Sk0J3C"
      },
      "source": [
        "# Assignment 3: Intro to Recurrent Neural Networks: Math, Training, and the Copy Task\n",
        "\n",
        "# Instructor: Dr. Ankur Mali\n",
        "# University of South Florida (Spring 2025)\n",
        "### In this tutorial we will build RNNs based on equation and will compare 3 popular frameworks (Jax, TensorFlow and Pytorch)\n",
        "\n",
        "## Vanilla RNN -- For more in depth explanation refer to your slides\n",
        "\n",
        "### Forward Pass (Inference) -- Stage 1\n",
        "Given an input at time \\(t\\):\n",
        "\\begin{aligned}\n",
        "\\mathbf{x}_t \\in \\mathbb{R}^{d_{\\text{in}}},\\quad \\mathbf{h}_{t-1} \\in \\mathbb{R}^{d_{\\text{hid}}}\n",
        "\\end{aligned}\n",
        "we define RNN parameters:\n",
        "\\begin{aligned}\n",
        "\\mathbf{W}_x \\in \\mathbb{R}^{d_{\\text{in}} \\times d_{\\text{hid}}}, \\quad\n",
        "\\mathbf{W}_h \\in \\mathbb{R}^{d_{\\text{hid}} \\times d_{\\text{hid}}}, \\quad\n",
        "\\mathbf{b}_h \\in \\mathbb{R}^{d_{\\text{hid}}}.\n",
        "\\end{aligned}\n",
        "\n",
        "The hidden state update:\n",
        "\\begin{aligned}\n",
        "\\mathbf{h}_t = \\tanh\\Bigl(\\mathbf{x}_t\\,\\mathbf{W}_x \\;+\\;\\mathbf{h}_{t-1}\\,\\mathbf{W}_h \\;+\\;\\mathbf{b}_h\\Bigr).\n",
        "\\end{aligned}\n",
        "\n",
        "Over a sequence  ($\\mathbf{x}_1$, $\\dots$, $\\mathbf{x}_T$), we unroll:\n",
        "\\begin{aligned}\n",
        "\\mathbf{h}_0 = \\mathbf{0},\\quad\n",
        "\\mathbf{h}_1 = \\tanh(\\mathbf{x}_1 \\mathbf{W}_x + \\mathbf{h}_0 \\mathbf{W}_h + \\mathbf{b}_h),\\,\\dots,\\,\n",
        "\\mathbf{h}_T = \\tanh(\\mathbf{x}_T \\mathbf{W}_x + \\mathbf{h}_{T-1} \\mathbf{W}_h + \\mathbf{b}_h).\n",
        "\\end{aligned}\n",
        "\n",
        "Optionally, each hidden state  \\($\\mathbf{h}_t$\\) can be projected to the output dimension $d_{\\text{in}}$:\n",
        "\\begin{aligned}\n",
        "\\mathbf{\\hat{y}}_t = \\mathbf{h}_t \\mathbf{W}_{\\text{out}} + \\mathbf{b}_{\\text{out}}\n",
        "\\end{aligned}\n",
        "\n",
        "<!-- $\\mathbf{\\hat{y}}$_t = $\\mathbf{h}_t$,$\\mathbf{W}_{\\text{out}}$ + $\\mathbf{b}_{\\text{out}}$. -->\n",
        "\n",
        "\n",
        "### Remaining Stages\n",
        "We define a loss (Stage 2) over all time steps, for instance:\n",
        "\\begin{aligned}\n",
        "\\mathbf{L} = \\frac{1}{T} \\sum_{t=1}^T \\left\\|\\,\\mathbf{\\hat{y}}_t - \\mathbf{y}_t\\,\\right\\|^2,\n",
        "\\end{aligned}\n",
        "and use Backpropagation Through Time (BPTT) (Stage 3). An optimizer (e.g., Adam) updates parameters (Stage 4):\n",
        "\\begin{aligned}\n",
        "\\theta \\,\\leftarrow\\, \\theta \\;-\\; \\eta \\,\\nabla_\\theta \\,\\mathbf{L}.\n",
        "\\end{aligned}\n",
        "\n",
        "---\n",
        "\n",
        "## GRU\n",
        "\n",
        "### Forward Pass (Inference)\n",
        "A Gated Recurrent Unit includes reset $\\mathbf{r}_t$ and update $\\mathbf{z}_t$ gates:\n",
        "\n",
        "\\begin{aligned}\n",
        "\\mathbf{z}_t &= \\sigma\\!\\bigl(\\mathbf{x}_t \\mathbf{W}_z + \\mathbf{h}_{t-1}\\,\\mathbf{U}_z + \\mathbf{b}_z\\bigr), \\\\\n",
        "\\mathbf{r}_t &= \\sigma\\!\\bigl(\\mathbf{x}_t \\mathbf{W}_r + \\mathbf{h}_{t-1}\\,\\mathbf{U}_r + \\mathbf{b}_r\\bigr), \\\\\n",
        "\\tilde{\\mathbf{h}}_t &= \\tanh\\!\\bigl(\\mathbf{x}_t \\mathbf{W}_h + (\\mathbf{r}_t \\odot \\mathbf{h}_{t-1})\\,\\mathbf{U}_h + \\mathbf{b}_h\\bigr), \\\\\n",
        "\\mathbf{h}_t &= (1 - \\mathbf{z}_t) \\odot \\mathbf{h}_{t-1} \\;+\\; \\mathbf{z}_t \\odot \\tilde{\\mathbf{h}}_t.\n",
        "\\end{aligned}\n",
        "\n",
        "where $\\sigma$ is the sigmoid function, and $\\odot$ denotes elementwise multiplication.\n",
        "\n",
        "### Remaining Stages\n",
        "As in the vanilla RNN, define a loss $\\mathbf{L}$ (e.g. MSE). The same BPTT logic applies, but the derivatives now include the GRU gating operations. Parameters (e.g., $\\mathbf{W}_z, \\mathbf{U}_z, \\ldots$ ) are updated by any gradient-based optimizer.\n",
        "\n",
        "---\n",
        "\n",
        "## Optimizer\n",
        "A typical training loop includes:\n",
        "\n",
        "1. **Forward pass**: compute model outputs $\\mathbf{\\hat{y}}_t$.\n",
        "2. **Loss computation**: $\\mathbf{L}(\\mathbf{\\hat{y}}_t, \\mathbf{y}_t)$.\n",
        "3. **Backward pass**: compute $\\nabla_\\theta \\mathbf{L}$ via BPTT.\n",
        "4. **Parameter update**:\n",
        "   \\begin{aligned}\n",
        "   \\theta \\leftarrow \\theta - \\eta \\;\\nabla_\\theta \\,\\mathcal{L}.\n",
        "   \\end{aligned}\n",
        "   (For example, using Adam, SGD, RMSProp, etc.)\n",
        "\n",
        "---\n",
        "\n"
      ]
    },
    {
      "cell_type": "markdown",
      "metadata": {
        "id": "m03_Eo4PBeOM"
      },
      "source": [
        "\n",
        "# The Copy Task\n",
        "The **copy task** is a simple sequence-to-sequence challenge:\n",
        "\n",
        "- **Input**: a sequence of random vectors {$\\mathbf{x}_1, \\dots, \\mathbf{x}_T$}.\n",
        "- **Target**: the **same** sequence {$\\mathbf{x}_1, \\dots, \\mathbf{x}_T$}.\n",
        "\n",
        "Thus, the model should learn to produce $\\mathbf{\\hat{y}}_t \\approx \\mathbf{x}_t$ at each time step ($t$). It's a straightforward yet revealing test of a model’s capacity to retain and reproduce a sequence—particularly sensitive to the model’s ability to **remember** information over time.  "
      ]
    },
    {
      "cell_type": "markdown",
      "source": [
        "---\n",
        "\n",
        "\n",
        "# Solution README\n",
        "\n",
        "Student: Maria Alejandra Zapata Montano\n",
        "\n",
        "# Objective\n",
        "The goal of this project is to see how well different recurrent neural network architectures can handle the copy task with different sequence lengths. We’ll train the models on sequences of length T=20 and use validation to find the best hyperparameters. But to really test how well the models generalize, we’ll also test them on longer sequences **(T=100, 200, 500, 1000)** that they haven’t seen before. This will help us figure out if the models are truly learning the task or just memorizing the training data. By looking at how performance drops as the sequence length gets longer, we can find out which architectures are better at handling long term dependencies in sequential data.\n",
        "\n",
        "#General Structure of the document\n",
        "\n",
        "The first approach was to first implement all the models and train all of them at the same time. However, I changed because was not optimal.\n",
        "The structure of the code if that you will see 4 sections\n",
        "- Standard LSTM\n",
        "- Multiplicative LSTM\n",
        "- Standard GRU\n",
        "- Multiplicative GRU\n",
        "\n",
        "And each of those will have implemented the sections of implementing the model, the training, validation and evaluation. At the end of all of those you will see the plots with the results and analysis. Just the first model code section will have the Data Generation code, since after this we just reused. And also, you will find there the code to find the best hyperparameters.\n",
        "Finally and the end of everything we will discuss our results, and how can we improve for future developments."
      ],
      "metadata": {
        "id": "P743WOMa5Xn0"
      }
    },
    {
      "cell_type": "markdown",
      "source": [
        "#Standard LSTM\n",
        "In this section you will find the implementation of Standard LSTM.\n",
        "All the othsers follow this structure."
      ],
      "metadata": {
        "id": "Uj25X525BROn"
      }
    },
    {
      "cell_type": "markdown",
      "source": [
        "In this part we are just making sure we are connected to the GRU. If not available, we connect to CPU"
      ],
      "metadata": {
        "id": "ZO2fLPetPrtb"
      }
    },
    {
      "cell_type": "code",
      "source": [
        "import torch\n",
        "\n",
        "# Verifying if GPU available\n",
        "device = torch.device(\"cuda\" if torch.cuda.is_available() else \"cpu\")\n",
        "print(f\"Running on: {device}\")\n",
        "\n",
        "if torch.cuda.is_available():\n",
        "    print(f\"GPU: {torch.cuda.get_device_name(0)}\")\n",
        "\n",
        "x = torch.rand(1).to(device)\n",
        "print(f\"Tensor in {device}: {x}\")\n"
      ],
      "metadata": {
        "colab": {
          "base_uri": "https://localhost:8080/"
        },
        "id": "TtQYnZMKCor0",
        "outputId": "477f222d-daa3-4cae-f0c2-e646dc7c1245"
      },
      "execution_count": null,
      "outputs": [
        {
          "output_type": "stream",
          "name": "stdout",
          "text": [
            "Running on: cuda\n",
            "GPU: Tesla T4\n",
            "Tensor in cuda: tensor([0.0038], device='cuda:0')\n"
          ]
        }
      ]
    },
    {
      "cell_type": "markdown",
      "source": [
        "##1.Implementation of the model"
      ],
      "metadata": {
        "id": "9ASGGgDfBYlk"
      }
    },
    {
      "cell_type": "markdown",
      "source": [
        "For implementing the model we are using the formulas given by the document and also the structure recommended by code given as a guide"
      ],
      "metadata": {
        "id": "Ef-j3iZeQBNd"
      }
    },
    {
      "cell_type": "code",
      "source": [
        "import torch\n",
        "import torch.nn as nn\n",
        "\n",
        "#------------------------------------------\n",
        "# PyTorch Standard LSTM\n",
        "#------------------------------------------\n",
        "\n",
        "# ------- Single-Step LSTM Cell\n",
        "class LSTMCellPyTorch(nn.Module):\n",
        "    \"\"\"\n",
        "    A single-step LSTM cell in PyTorch\n",
        "    \"\"\"\n",
        "    def __init__(self, input_size, hidden_size):\n",
        "        super().__init__()\n",
        "        self.hidden_size = hidden_size\n",
        "\n",
        "        self.W_i = nn.Parameter(torch.randn(input_size, hidden_size) * 0.1)\n",
        "        self.U_i = nn.Parameter(torch.randn(hidden_size, hidden_size) * 0.1)\n",
        "        self.b_i = nn.Parameter(torch.zeros(hidden_size))\n",
        "\n",
        "\n",
        "        self.W_f = nn.Parameter(torch.randn(input_size, hidden_size) * 0.1)\n",
        "        self.U_f = nn.Parameter(torch.randn(hidden_size, hidden_size) * 0.1)\n",
        "        self.b_f = nn.Parameter(torch.zeros(hidden_size))\n",
        "\n",
        "\n",
        "        self.W_o = nn.Parameter(torch.randn(input_size, hidden_size) * 0.1)\n",
        "        self.U_o = nn.Parameter(torch.randn(hidden_size, hidden_size) * 0.1)\n",
        "        self.b_o = nn.Parameter(torch.zeros(hidden_size))\n",
        "\n",
        "\n",
        "        self.W_c = nn.Parameter(torch.randn(input_size, hidden_size) * 0.1)\n",
        "        self.U_c = nn.Parameter(torch.randn(hidden_size, hidden_size) * 0.1)\n",
        "        self.b_c = nn.Parameter(torch.zeros(hidden_size))\n",
        "\n",
        "    def forward(self, x_t, h_prev, c_prev):\n",
        "        \"\"\"\n",
        "        x_t: [batch_size, input_size]\n",
        "        h_prev: [batch_size, hidden_size]\n",
        "        c_prev: [batch_size, hidden_size]\n",
        "        \"\"\"\n",
        "        i_t = torch.sigmoid(x_t @ self.W_i + h_prev @ self.U_i + self.b_i)\n",
        "        f_t = torch.sigmoid(x_t @ self.W_f + h_prev @ self.U_f + self.b_f)\n",
        "        o_t = torch.sigmoid(x_t @ self.W_o + h_prev @ self.U_o + self.b_o)\n",
        "        c_tilde = torch.tanh(x_t @ self.W_c + h_prev @ self.U_c + self.b_c)\n",
        "\n",
        "\n",
        "        c_t = f_t * c_prev + i_t * c_tilde\n",
        "        h_t = o_t * torch.tanh(c_t)\n",
        "\n",
        "        return h_t, c_t\n",
        "\n",
        "# ------- Higher-level PyTorch LSTM that unrolls over time\n",
        "class LSTMPyTorch(nn.Module):\n",
        "    def __init__(self, input_size, hidden_size):\n",
        "        super().__init__()\n",
        "        self.hidden_size = hidden_size\n",
        "        self.lstm_cell = LSTMCellPyTorch(input_size, hidden_size)\n",
        "\n",
        "        self.W_out = nn.Parameter(torch.randn(hidden_size, input_size) * 0.1)\n",
        "        self.b_out = nn.Parameter(torch.zeros(input_size))\n",
        "\n",
        "    def forward(self, X):\n",
        "        \"\"\"\n",
        "        X: [batch_size, seq_length, input_size]\n",
        "        \"\"\"\n",
        "        batch_size, seq_length, _ = X.shape\n",
        "        h = torch.zeros(batch_size, self.hidden_size, device=X.device)\n",
        "        c = torch.zeros(batch_size, self.hidden_size, device=X.device)\n",
        "\n",
        "        outputs = []\n",
        "        for t in range(seq_length):\n",
        "            x_t = X[:, t, :]  # [batch_size, input_size]\n",
        "            h, c = self.lstm_cell(x_t, h, c)\n",
        "            out_t = h @ self.W_out + self.b_out\n",
        "            outputs.append(out_t.unsqueeze(1))\n",
        "\n",
        "        return torch.cat(outputs, dim=1)  # [batch_size, seq_length, input_size]\n"
      ],
      "metadata": {
        "id": "uUQHyqv2B06J"
      },
      "execution_count": 1,
      "outputs": []
    },
    {
      "cell_type": "markdown",
      "source": [
        "##2. Data Generation"
      ],
      "metadata": {
        "id": "CQ9A9rXEF0ah"
      }
    },
    {
      "cell_type": "markdown",
      "source": [
        "Here we are doing the data generation but also the Train/Validation/Test Split.\n",
        "For the training we use 80% and we use 10% for the validation and 10% for the test.\n",
        "\n",
        "For the data generation, the sequence are organized this way. We 10 would be our delimitator and the 11 would be the blank space. And the end of this we print some examles of how the data would look like"
      ],
      "metadata": {
        "id": "2CgfpgZ44l6b"
      }
    },
    {
      "cell_type": "code",
      "source": [
        "\n",
        "import torch\n",
        "import numpy as np\n",
        "from torch.utils.data import Dataset, DataLoader, random_split\n",
        "\n",
        "#---------------------------------------------------------------------\n",
        "# Data Generation\n",
        "#--------------------------------------------------------------\n",
        "\n",
        "class CopyTaskDataset(Dataset):\n",
        "    def __init__(self, sequence_length, vocab_size=10, dataset_size=1000):\n",
        "        self.sequence_length = sequence_length  # Length of the sc\n",
        "        self.vocab_size = vocab_size  # NNumber of unique simbols\n",
        "        self.dataset_size = dataset_size  # Number of total examp\n",
        "        self.delimiter_token = vocab_size  # Delimitator\n",
        "        self.blank_token = vocab_size + 1  # Blank space\n",
        "        self.data, self.targets = self.genData()\n",
        "\n",
        "    def genData(self):\n",
        "        data = []\n",
        "        targets = []\n",
        "\n",
        "        for _ in range(self.dataset_size):\n",
        "            # Generate akeatory sequency of int numbers\n",
        "            seq = np.random.randint(0, self.vocab_size, size=self.sequence_length)\n",
        "\n",
        "            # Creating entry delimitator and blank spaces\n",
        "            input_seq = np.concatenate([\n",
        "                seq,  # or sequences\n",
        "                [self.delimiter_token],  # Delimitator\n",
        "                np.full(self.sequence_length, self.blank_token)  # Blank soace\n",
        "            ])\n",
        "\n",
        "            # Expected output\n",
        "            target_seq = np.concatenate([\n",
        "                np.full(self.sequence_length + 1, self.blank_token),\n",
        "                seq\n",
        "            ])\n",
        "\n",
        "            data.append(input_seq)\n",
        "            targets.append(target_seq)\n",
        "\n",
        "        return torch.tensor(np.array(data), dtype=torch.long), torch.tensor(np.array(targets), dtype=torch.long)\n",
        "\n",
        "    def __len__(self):\n",
        "        return self.dataset_size\n",
        "\n",
        "    def __getitem__(self, idx):\n",
        "        return self.data[idx], self.targets[idx]\n",
        "\n",
        "# ------- Split Dataset into Train, Validation, and Test Sets\n",
        "def split_dataset(dataset, train_ratio=0.8, val_ratio=0.1):\n",
        "    train_size = int(train_ratio * len(dataset))\n",
        "    val_size = int(val_ratio * len(dataset))\n",
        "    test_size = len(dataset) - train_size - val_size\n",
        "\n",
        "    train_dataset, val_dataset, test_dataset = random_split(dataset, [train_size, val_size, test_size])\n",
        "    return train_dataset, val_dataset, test_dataset\n",
        "\n",
        "\n",
        "def get_dataloader(sequence_length, vocab_size=10, dataset_size=5000, batch_size=32):\n",
        "    dataset = CopyTaskDataset(sequence_length, vocab_size, dataset_size)\n",
        "    train_dataset, val_dataset, test_dataset = split_dataset(dataset)\n",
        "    return (DataLoader(train_dataset, batch_size=batch_size, shuffle=True),\n",
        "            DataLoader(val_dataset, batch_size=batch_size, shuffle=False),\n",
        "            DataLoader(test_dataset, batch_size=batch_size, shuffle=False))\n",
        "\n",
        "# ------- Example\n",
        "if __name__ == \"__main__\":\n",
        "    dataset = CopyTaskDataset(sequence_length=5, vocab_size=10, dataset_size=5)\n",
        "    for i in range(2):\n",
        "        print(f\"Example {i+1}:\")\n",
        "        print(\"Input Sequence: \", dataset.data[i].tolist())\n",
        "        print(\"Target Sequence: \", dataset.targets[i].tolist())\n",
        "        print(\"-\" * 20)"
      ],
      "metadata": {
        "colab": {
          "base_uri": "https://localhost:8080/"
        },
        "id": "NmbePXoxDnV2",
        "outputId": "99c4c3a5-89bd-479a-a693-524b1b1f0baa"
      },
      "execution_count": 6,
      "outputs": [
        {
          "output_type": "stream",
          "name": "stdout",
          "text": [
            "Example 1:\n",
            "Input Sequence:  [0, 9, 2, 9, 2, 10, 11, 11, 11, 11, 11]\n",
            "Target Sequence:  [11, 11, 11, 11, 11, 11, 0, 9, 2, 9, 2]\n",
            "--------------------\n",
            "Example 2:\n",
            "Input Sequence:  [4, 3, 5, 7, 7, 10, 11, 11, 11, 11, 11]\n",
            "Target Sequence:  [11, 11, 11, 11, 11, 11, 4, 3, 5, 7, 7]\n",
            "--------------------\n"
          ]
        }
      ]
    },
    {
      "cell_type": "markdown",
      "source": [
        "## 3. Training"
      ],
      "metadata": {
        "id": "2FoY14DYF30t"
      }
    },
    {
      "cell_type": "markdown",
      "source": [
        "## Training and Validation Loss Plots"
      ],
      "metadata": {
        "id": "zLS3no1kQuho"
      }
    },
    {
      "cell_type": "markdown",
      "source": [
        "This function is the one we call in all the code. It is for plotting the data and comparing the epoch vs the loss and the accuracy vs the epoch."
      ],
      "metadata": {
        "id": "hNYs8Y9dS8oA"
      }
    },
    {
      "cell_type": "code",
      "source": [
        "import torch\n",
        "import torch.nn as nn\n",
        "import torch.optim as optim\n",
        "import time\n",
        "import random\n",
        "from torch.utils.data import DataLoader\n",
        "import matplotlib.pyplot as plt\n",
        "\n",
        "\n",
        "def plot_metrics(train_losses, val_losses, train_accuracies, val_accuracies, epochs):\n",
        "    # Plot loss curves\n",
        "    plt.figure(figsize=(7, 4))\n",
        "    plt.subplot(1, 2, 1)\n",
        "    plt.plot(range(epochs), train_losses, label=\"Train Loss\")\n",
        "    plt.plot(range(epochs), val_losses, label=\"Val Loss\")\n",
        "    plt.title('Loss vs Epochs')\n",
        "    plt.xlabel('Epoch')\n",
        "    plt.ylabel('Loss')\n",
        "    plt.legend()\n",
        "\n",
        "    # Plot accuracy curves\n",
        "    plt.subplot(1, 2, 2)\n",
        "    plt.plot(range(epochs), train_accuracies, label=\"Train Accuracy\")\n",
        "    plt.plot(range(epochs), val_accuracies, label=\"Val Accuracy\")\n",
        "    plt.title('Accuracy vs Epochs')\n",
        "    plt.xlabel('Epoch')\n",
        "    plt.ylabel('Accuracy')\n",
        "    plt.legend()\n",
        "\n",
        "    plt.tight_layout()\n",
        "    plt.show()\n"
      ],
      "metadata": {
        "id": "HqIepRSANoG7"
      },
      "execution_count": 7,
      "outputs": []
    },
    {
      "cell_type": "markdown",
      "source": [
        "LSTM Training with Hyperparameter Search and Validation:\n",
        "In this function we are doing the training. We are using as a guide the code given in class but we have made some edits in order it can find the best hyperparameters and also to save the values for the plotting. After finding the best hyperparameters we do the training and validation with the best one. This best hyperparameters would be use in all the models."
      ],
      "metadata": {
        "id": "AV2tsgUf9Z6T"
      }
    },
    {
      "cell_type": "code",
      "source": [
        "import torch\n",
        "import torch.nn as nn\n",
        "import torch.optim as optim\n",
        "import time\n",
        "import random\n",
        "import numpy as np\n",
        "from torch.utils.data import DataLoader\n",
        "\n",
        "#------------------------------------------------------\n",
        "# PyTorch Benchmark\n",
        "#---------------------------------------------------\n",
        "def benchmark_pytorch(input_size, hidden_size, train_loader, val_loader, epochs, lr, plot=False):\n",
        "    model = LSTMPyTorch(input_size, hidden_size)\n",
        "    optimizer = torch.optim.Adam(model.parameters(), lr=lr)\n",
        "    criterion = nn.CrossEntropyLoss()\n",
        "    device = torch.device(\"cuda\" if torch.cuda.is_available() else \"cpu\")\n",
        "    model.to(device)\n",
        "\n",
        "    # For plot\n",
        "    train_losses = []\n",
        "    val_losses = []\n",
        "    train_accuracies = []\n",
        "    val_accuracies = []\n",
        "\n",
        "    start_time = time.time()\n",
        "\n",
        "    for epoch in range(epochs):\n",
        "        total_loss = 0\n",
        "        correct = 0\n",
        "        total = 0\n",
        "\n",
        "        # Training Phase\n",
        "        model.train()\n",
        "        for inputs, targets in train_loader:\n",
        "            inputs, targets = inputs.to(device), targets.to(device)\n",
        "\n",
        "\n",
        "            inputs = nn.functional.one_hot(inputs, num_classes=input_size).float()\n",
        "\n",
        "            optimizer.zero_grad()\n",
        "            outputs = model(inputs)\n",
        "\n",
        "\n",
        "            loss = criterion(outputs.view(-1, input_size), targets.view(-1))\n",
        "            loss.backward()\n",
        "            optimizer.step()\n",
        "\n",
        "            total_loss += loss.item()\n",
        "\n",
        "            # accuracy\n",
        "            predictions = outputs.argmax(dim=-1)\n",
        "            correct += (predictions == targets).sum().item()\n",
        "            total += targets.numel()\n",
        "\n",
        "        train_accuracy = (correct / total) * 100\n",
        "        avg_train_loss = total_loss / len(train_loader)\n",
        "\n",
        "        # For plot\n",
        "        train_losses.append(avg_train_loss)\n",
        "        train_accuracies.append(train_accuracy)\n",
        "\n",
        "        # Validation Phase\n",
        "        model.eval()\n",
        "        val_loss = 0\n",
        "        val_correct = 0\n",
        "        val_total = 0\n",
        "        with torch.no_grad():\n",
        "            for inputs, targets in val_loader:\n",
        "                inputs, targets = inputs.to(device), targets.to(device)\n",
        "                inputs = nn.functional.one_hot(inputs, num_classes=input_size).float()\n",
        "                outputs = model(inputs)\n",
        "                loss = criterion(outputs.view(-1, input_size), targets.view(-1))\n",
        "                val_loss += loss.item()\n",
        "                predictions = outputs.argmax(dim=-1)\n",
        "                val_correct += (predictions == targets).sum().item()\n",
        "                val_total += targets.numel()\n",
        "\n",
        "        val_accuracy = (val_correct / val_total) * 100\n",
        "        avg_val_loss = val_loss / len(val_loader)\n",
        "\n",
        "        val_losses.append(avg_val_loss)\n",
        "        val_accuracies.append(val_accuracy)\n",
        "\n",
        "        print(f\"Epoch {epoch+1}/{epochs}, Train Loss: {avg_train_loss:.4f}, Train Accuracy: {train_accuracy:.2f}%, Val Loss: {avg_val_loss:.4f}, Val Accuracy: {val_accuracy:.2f}%\")\n",
        "\n",
        "    if plot:\n",
        "        plot_metrics(train_losses, val_losses, train_accuracies, val_accuracies, epochs)\n",
        "\n",
        "    return model, time.time() - start_time, avg_train_loss, avg_val_loss\n",
        "\n",
        "# ------------------------------------------------------\n",
        "# Hyperparameter Search\n",
        "# ------------------------------------------------------\n",
        "def hyperparameter_search(train_loader, val_loader, num_combinations=15):\n",
        "    param_space = {\n",
        "        \"hidden_size\": [64, 128],\n",
        "        \"batch_size\": [16, 32],\n",
        "        \"learning_rate\": [0.001],\n",
        "        \"epochs\": [10],\n",
        "    }\n",
        "\n",
        "    total_combinations = len(param_space[\"hidden_size\"]) * len(param_space[\"batch_size\"]) * len(param_space[\"learning_rate\"]) * len(param_space[\"epochs\"])\n",
        "    num_combinations = min(num_combinations, total_combinations)\n",
        "    sampled_configs = random.sample(\n",
        "        [(h, b, lr, e) for h in param_space[\"hidden_size\"]\n",
        "                      for b in param_space[\"batch_size\"]\n",
        "                      for lr in param_space[\"learning_rate\"]\n",
        "                      for e in param_space[\"epochs\"]], num_combinations)\n",
        "\n",
        "    best_config = None\n",
        "    best_loss = float(\"inf\")\n",
        "\n",
        "    for config in sampled_configs:\n",
        "        h_size, b_size, lr, e = config\n",
        "        print(f\"\\nTesting Config: Hidden={h_size}, Batch={b_size}, LR={lr}, Epochs={e}\")\n",
        "\n",
        "        train_loader, val_loader, _ = get_dataloader(sequence_length=20, batch_size=b_size)\n",
        "        _, _, final_loss, _ = benchmark_pytorch(input_size=12, hidden_size=h_size, train_loader=train_loader, val_loader=val_loader, epochs=e, lr=lr, plot=False)\n",
        "\n",
        "        if final_loss < best_loss:\n",
        "            best_loss = final_loss\n",
        "            best_config = config\n",
        "\n",
        "    print(f\"\\n Best conf: {best_config}\")\n",
        "    return best_config\n",
        "\n",
        "# ------------------------------------------------------\n",
        "# Run Training and Save Model\n",
        "# ------------------------------------------------------\n",
        "np.random.seed(42)\n",
        "torch.manual_seed(42)\n",
        "train_loader, val_loader, _ = get_dataloader(sequence_length=20, batch_size=32)  # train/val sets\n",
        "\n",
        "print(\"\\nSearching hyperparameters\")\n",
        "best_hyperparams = hyperparameter_search(train_loader, val_loader, num_combinations=2)\n",
        "print(\"\\nBest hyperparameters found. Training model\")\n",
        "\n",
        "best_h_size, best_b_size, best_lr, best_epochs = best_hyperparams\n",
        "train_loader, val_loader, _ = get_dataloader(sequence_length=20, batch_size=best_b_size)\n",
        "\n",
        "best_model, training_time, _, _ = benchmark_pytorch(input_size=12, hidden_size=best_h_size, train_loader=train_loader, val_loader=val_loader, epochs=best_epochs, lr=best_lr, plot=True)\n",
        "\n",
        "torch.save(best_model.state_dict(), \"best_model.pth\")\n",
        "\n",
        "print(f\"\\nTraining ended in{training_time:.2f} s\")\n"
      ],
      "metadata": {
        "colab": {
          "base_uri": "https://localhost:8080/",
          "height": 1000
        },
        "id": "QXb02f7DOgXz",
        "outputId": "2f6f7f57-e372-416d-b6de-e51ea6665785"
      },
      "execution_count": 14,
      "outputs": [
        {
          "output_type": "stream",
          "name": "stdout",
          "text": [
            "\n",
            "Searching hyperparameters\n",
            "\n",
            "Testing Config: Hidden=64, Batch=16, LR=0.001, Epochs=10\n",
            "Epoch 1/10, Train Loss: 1.4219, Train Accuracy: 53.92%, Val Loss: 1.1736, Val Accuracy: 56.04%\n",
            "Epoch 2/10, Train Loss: 1.1561, Train Accuracy: 56.15%, Val Loss: 1.1445, Val Accuracy: 56.10%\n",
            "Epoch 3/10, Train Loss: 1.1437, Train Accuracy: 56.15%, Val Loss: 1.1342, Val Accuracy: 56.06%\n",
            "Epoch 4/10, Train Loss: 1.1311, Train Accuracy: 56.15%, Val Loss: 1.1288, Val Accuracy: 56.12%\n",
            "Epoch 5/10, Train Loss: 1.1270, Train Accuracy: 56.28%, Val Loss: 1.1249, Val Accuracy: 56.36%\n",
            "Epoch 6/10, Train Loss: 1.1252, Train Accuracy: 56.32%, Val Loss: 1.1226, Val Accuracy: 56.53%\n",
            "Epoch 7/10, Train Loss: 1.1258, Train Accuracy: 56.25%, Val Loss: 1.1255, Val Accuracy: 56.12%\n",
            "Epoch 8/10, Train Loss: 1.1230, Train Accuracy: 56.33%, Val Loss: 1.1213, Val Accuracy: 56.31%\n",
            "Epoch 9/10, Train Loss: 1.1154, Train Accuracy: 56.42%, Val Loss: 1.1099, Val Accuracy: 56.43%\n",
            "Epoch 10/10, Train Loss: 1.1085, Train Accuracy: 56.64%, Val Loss: 1.1071, Val Accuracy: 56.33%\n",
            "\n",
            "Testing Config: Hidden=128, Batch=16, LR=0.001, Epochs=10\n",
            "Epoch 1/10, Train Loss: 1.3097, Train Accuracy: 55.14%, Val Loss: 1.1625, Val Accuracy: 55.81%\n",
            "Epoch 2/10, Train Loss: 1.1670, Train Accuracy: 55.94%, Val Loss: 1.1433, Val Accuracy: 55.96%\n",
            "Epoch 3/10, Train Loss: 1.1362, Train Accuracy: 56.11%, Val Loss: 1.1314, Val Accuracy: 55.90%\n",
            "Epoch 4/10, Train Loss: 1.1289, Train Accuracy: 56.25%, Val Loss: 1.1261, Val Accuracy: 55.92%\n",
            "Epoch 5/10, Train Loss: 1.1279, Train Accuracy: 56.21%, Val Loss: 1.1266, Val Accuracy: 56.25%\n",
            "Epoch 6/10, Train Loss: 1.1227, Train Accuracy: 56.34%, Val Loss: 1.1202, Val Accuracy: 56.45%\n",
            "Epoch 7/10, Train Loss: 1.1178, Train Accuracy: 56.43%, Val Loss: 1.1136, Val Accuracy: 56.38%\n",
            "Epoch 8/10, Train Loss: 1.1100, Train Accuracy: 56.65%, Val Loss: 1.1102, Val Accuracy: 56.65%\n",
            "Epoch 9/10, Train Loss: 1.1037, Train Accuracy: 56.78%, Val Loss: 1.1095, Val Accuracy: 56.50%\n",
            "Epoch 10/10, Train Loss: 1.0970, Train Accuracy: 56.95%, Val Loss: 1.0928, Val Accuracy: 56.88%\n",
            "\n",
            " Best conf: (128, 16, 0.001, 10)\n",
            "\n",
            "Best hyperparameters found. Training model\n",
            "Epoch 1/10, Train Loss: 1.3149, Train Accuracy: 55.21%, Val Loss: 1.1965, Val Accuracy: 56.38%\n",
            "Epoch 2/10, Train Loss: 1.1521, Train Accuracy: 56.13%, Val Loss: 1.1400, Val Accuracy: 56.00%\n",
            "Epoch 3/10, Train Loss: 1.1340, Train Accuracy: 56.07%, Val Loss: 1.1308, Val Accuracy: 55.88%\n",
            "Epoch 4/10, Train Loss: 1.1328, Train Accuracy: 56.13%, Val Loss: 1.1276, Val Accuracy: 56.03%\n",
            "Epoch 5/10, Train Loss: 1.1265, Train Accuracy: 56.06%, Val Loss: 1.1255, Val Accuracy: 56.36%\n",
            "Epoch 6/10, Train Loss: 1.1253, Train Accuracy: 56.14%, Val Loss: 1.1248, Val Accuracy: 56.22%\n",
            "Epoch 7/10, Train Loss: 1.1249, Train Accuracy: 56.14%, Val Loss: 1.1239, Val Accuracy: 56.20%\n",
            "Epoch 8/10, Train Loss: 1.1225, Train Accuracy: 56.25%, Val Loss: 1.1200, Val Accuracy: 56.30%\n",
            "Epoch 9/10, Train Loss: 1.1121, Train Accuracy: 56.61%, Val Loss: 1.1074, Val Accuracy: 56.79%\n",
            "Epoch 10/10, Train Loss: 1.1036, Train Accuracy: 56.62%, Val Loss: 1.1081, Val Accuracy: 56.52%\n"
          ]
        },
        {
          "output_type": "display_data",
          "data": {
            "text/plain": [
              "<Figure size 700x400 with 2 Axes>"
            ],
            "image/png": "[encoded data removed]"
          },
          "metadata": {}
        },
        {
          "output_type": "stream",
          "name": "stdout",
          "text": [
            "\n",
            "Training ended in136.56 s\n"
          ]
        }
      ]
    },
    {
      "cell_type": "markdown",
      "source": [
        "### Analysis\n",
        "\n",
        "Best Hyperparameters Selected:\n",
        "- Hidden Size: 128\n",
        "- Batch Size: 16\n",
        "- Learning Rate: 0.001\n",
        "- Epochs: 10\n",
        "\n",
        "These hyperparameters were chosen after evaluating different configurations during the hyperparameter search process. The final training configuration was selected because it resulted in a reasonable trade off between training loss, validation loss, and accuracy.\n",
        "\n",
        "\n",
        "The results from the Standard LSTM model show that during the 10 training epochs show that the model is learning, as both training and validation loss decrease over time. The training accuracy starts at 55.21% and improves to 56.62%, while the validation accuracy stays between 56.00% and 56.79%. Even in the graphs we can observe these results\n"
      ],
      "metadata": {
        "id": "sDOeQfz3u5i3"
      }
    },
    {
      "cell_type": "markdown",
      "source": [
        "## 4. Evaluation"
      ],
      "metadata": {
        "id": "kD2E-WzBVpMZ"
      }
    },
    {
      "cell_type": "markdown",
      "source": [
        "In the evaluation we are getting the mean accuracy and standard error"
      ],
      "metadata": {
        "id": "Yco57fOpUEXz"
      }
    },
    {
      "cell_type": "code",
      "source": [
        "import torch\n",
        "import torch.nn as nn\n",
        "import numpy as np\n",
        "from scipy.stats import sem\n",
        "\n",
        "# ------------------------------------------------------\n",
        "# Evaluate model\n",
        "# ------------------------------------------------------\n",
        "def evaluate_model(model, test_loader, input_size):\n",
        "    model.eval()\n",
        "    loss_fn = nn.CrossEntropyLoss()\n",
        "    total_loss = 0\n",
        "    total_correct = 0\n",
        "    total_samples = 0\n",
        "\n",
        "    device = torch.device(\"cuda\" if torch.cuda.is_available() else \"cpu\")\n",
        "\n",
        "    with torch.no_grad():\n",
        "        for inputs, targets in test_loader:\n",
        "            inputs, targets = inputs.to(device), targets.to(device)\n",
        "\n",
        "            inputs = nn.functional.one_hot(inputs, num_classes=input_size).float()\n",
        "\n",
        "            predictions = model(inputs)\n",
        "            loss = loss_fn(predictions.view(-1, input_size), targets.view(-1))\n",
        "            total_loss += loss.item()\n",
        "\n",
        "            # accuracy\n",
        "            predicted_labels = predictions.argmax(dim=-1)\n",
        "            total_correct += (predicted_labels == targets).sum().item()\n",
        "            total_samples += targets.numel()\n",
        "\n",
        "    accuracy = (total_correct / total_samples) * 100\n",
        "    avg_loss = total_loss / len(test_loader)\n",
        "    return avg_loss, accuracy\n",
        "\n",
        "def full_evaluation(model, input_size, sequence_lengths=[100, 200, 500, 1000], trials=3):\n",
        "    model.eval()\n",
        "    device = torch.device(\"cuda\" if torch.cuda.is_available() else \"cpu\")\n",
        "\n",
        "    results = {}\n",
        "    print(\"\\nEvaluating\")\n",
        "\n",
        "    trial_accuracies = {T: [] for T in sequence_lengths}\n",
        "\n",
        "    for T in sequence_lengths:\n",
        "        print(f\"Evaluating in T={T}\")\n",
        "\n",
        "        _, _, test_loader = get_dataloader(sequence_length=T, batch_size=best_b_size)\n",
        "\n",
        "        for _ in range(trials):\n",
        "            loss, accuracy = evaluate_model(model, test_loader, input_size)\n",
        "            trial_accuracies[T].append(accuracy)\n",
        "\n",
        "    results = {\n",
        "        T: {\n",
        "            \"mean_accuracy\": np.mean(trial_accuracies[T]),\n",
        "            \"std_error\": sem(trial_accuracies[T])\n",
        "        } for T in sequence_lengths\n",
        "    }\n",
        "\n",
        "    print(\"\\nResults:\")\n",
        "    for T, metrics in results.items():\n",
        "        print(f\"T={T}: Accuracy={metrics['mean_accuracy']:.2f}% ± {metrics['std_error']:.2f}%\")\n",
        "\n",
        "    return results\n",
        "\n",
        "# ------------------------------------------------------\n",
        "# Load Trained Model and Execute Evaluation\n",
        "# ------------------------------------------------------\n",
        "print(\"\\nGetting trained model\")\n",
        "\n",
        "device = torch.device(\"cuda\" if torch.cuda.is_available() else \"cpu\")\n",
        "input_size = 12\n",
        "\n",
        "best_model = LSTMPyTorch(input_size=input_size, hidden_size=best_h_size).to(device)\n",
        "\n",
        "best_model.load_state_dict(torch.load(\"best_model.pth\", map_location=device))\n",
        "best_model.eval()\n",
        "\n",
        "print(\"\\ Eval model\")\n",
        "\n",
        "evaluation_results = full_evaluation(best_model, input_size)\n",
        "print(\"\\nEvaluation completed!\")\n"
      ],
      "metadata": {
        "id": "HGd6zZIFVsfi",
        "colab": {
          "base_uri": "https://localhost:8080/"
        },
        "outputId": "55eae44d-8e54-4c72-f389-1bfc8fa9b512"
      },
      "execution_count": 16,
      "outputs": [
        {
          "output_type": "stream",
          "name": "stdout",
          "text": [
            "\n",
            "Getting trained model\n",
            "\\ Eval model\n",
            "\n",
            "Evaluating\n",
            "Evaluating in T=100\n"
          ]
        },
        {
          "output_type": "stream",
          "name": "stderr",
          "text": [
            "<ipython-input-16-26db8d092d2f>:78: FutureWarning: You are using `torch.load` with `weights_only=False` (the current default value), which uses the default pickle module implicitly. It is possible to construct malicious pickle data which will execute arbitrary code during unpickling (See https://github.com/pytorch/pytorch/blob/main/SECURITY.md#untrusted-models for more details). In a future release, the default value for `weights_only` will be flipped to `True`. This limits the functions that could be executed during unpickling. Arbitrary objects will no longer be allowed to be loaded via this mode unless they are explicitly allowlisted by the user via `torch.serialization.add_safe_globals`. We recommend you start setting `weights_only=True` for any use case where you don't have full control of the loaded file. Please open an issue on GitHub for any issues related to this experimental feature.\n",
            "  best_model.load_state_dict(torch.load(\"best_model.pth\", map_location=device))\n"
          ]
        },
        {
          "output_type": "stream",
          "name": "stdout",
          "text": [
            "Evaluating in T=200\n",
            "Evaluating in T=500\n",
            "Evaluating in T=1000\n",
            "\n",
            "Results:\n",
            "T=100: Accuracy=42.15% ± 0.00%\n",
            "T=200: Accuracy=43.33% ± 0.00%\n",
            "T=500: Accuracy=49.08% ± 0.00%\n",
            "T=1000: Accuracy=52.40% ± 0.00%\n",
            "\n",
            "Evaluation completed!\n"
          ]
        }
      ]
    },
    {
      "cell_type": "markdown",
      "source": [
        "The results show that the accuracy of the model is decent across all sequence lengths. For T=100, accuracy is 42.15%, and it slightly improves as T increases, reaching 52.40% at T=1000. This suggests that the model got better results with bigger ones."
      ],
      "metadata": {
        "id": "lHIQ9Icjwue9"
      }
    },
    {
      "cell_type": "markdown",
      "source": [
        "#  Multiplicative LSTM"
      ],
      "metadata": {
        "id": "EebWef0dX7Lw"
      }
    },
    {
      "cell_type": "markdown",
      "source": [
        "## 1.Implementation of the model"
      ],
      "metadata": {
        "id": "i3JSxTC_Z0hB"
      }
    },
    {
      "cell_type": "markdown",
      "source": [
        "For implementing the model we are using the formulas given by the document and also the structure recommended by code given as a guide"
      ],
      "metadata": {
        "id": "3CM1SPsWNor3"
      }
    },
    {
      "cell_type": "code",
      "source": [
        "import torch\n",
        "import torch.nn as nn\n",
        "\n",
        "#--------------------------------------------------------\n",
        "# PyTorch Implementation of Multiplicative LSTM\n",
        "#------------------------------------------------------\n",
        "\n",
        "# ------- Single-Step Multiplicative LSTM Cell\n",
        "class MLSTMCellPyTorch(nn.Module):\n",
        "    \"\"\"\n",
        "    A single-step Multiplicative LSTM cell in PyTorch\n",
        "    \"\"\"\n",
        "    def __init__(self, input_size, hidden_size):\n",
        "        super().__init__()\n",
        "        self.hidden_size = hidden_size\n",
        "\n",
        "        self.W_m = nn.Parameter(torch.randn(input_size, hidden_size) * 0.1)\n",
        "        self.U_m = nn.Parameter(torch.randn(hidden_size, hidden_size) * 0.1)\n",
        "        self.b_m = nn.Parameter(torch.zeros(hidden_size))\n",
        "\n",
        "        #This was to make the sizes match\n",
        "        self.W_x = nn.Parameter(torch.randn(input_size, hidden_size) * 0.1)\n",
        "\n",
        "        self.W_i = nn.Parameter(torch.randn(hidden_size, hidden_size) * 0.1)\n",
        "        self.U_i = nn.Parameter(torch.randn(hidden_size, hidden_size) * 0.1)\n",
        "        self.b_i = nn.Parameter(torch.zeros(hidden_size))\n",
        "\n",
        "        self.W_f = nn.Parameter(torch.randn(hidden_size, hidden_size) * 0.1)\n",
        "        self.U_f = nn.Parameter(torch.randn(hidden_size, hidden_size) * 0.1)\n",
        "        self.b_f = nn.Parameter(torch.zeros(hidden_size))\n",
        "\n",
        "        self.W_o = nn.Parameter(torch.randn(hidden_size, hidden_size) * 0.1)\n",
        "        self.U_o = nn.Parameter(torch.randn(hidden_size, hidden_size) * 0.1)\n",
        "        self.b_o = nn.Parameter(torch.zeros(hidden_size))\n",
        "\n",
        "        self.W_c = nn.Parameter(torch.randn(hidden_size, hidden_size) * 0.1)\n",
        "        self.U_c = nn.Parameter(torch.randn(hidden_size, hidden_size) * 0.1)\n",
        "        self.b_c = nn.Parameter(torch.zeros(hidden_size))\n",
        "\n",
        "        self.W_proj = nn.Linear(hidden_size, input_size)\n",
        "\n",
        "    def forward(self, x_t, h_prev, c_prev):\n",
        "        \"\"\"\n",
        "        x_t: [batch_size, input_size]\n",
        "        h_prev: [batch_size, hidden_size]\n",
        "        c_prev: [batch_size, hidden_size]\n",
        "        \"\"\"\n",
        "        x_proj = x_t @ self.W_x\n",
        "\n",
        "        m_t = x_t @ self.W_m + h_prev @ self.U_m + self.b_m\n",
        "\n",
        "        x_tilde = m_t * x_proj\n",
        "\n",
        "        i_t = torch.sigmoid(x_tilde @ self.W_i + h_prev @ self.U_i + self.b_i)\n",
        "        f_t = torch.sigmoid(x_tilde @ self.W_f + h_prev @ self.U_f + self.b_f)\n",
        "        o_t = torch.sigmoid(x_tilde @ self.W_o + h_prev @ self.U_o + self.b_o)\n",
        "        c_tilde = torch.tanh(x_tilde @ self.W_c + h_prev @ self.U_c + self.b_c)\n",
        "\n",
        "\n",
        "        c_t = f_t * c_prev + i_t * c_tilde\n",
        "        h_t = o_t * torch.tanh(c_t)\n",
        "\n",
        "        return h_t, c_t\n",
        "\n",
        "# ------- Higher-level PyTorch MLSTM that unrolls over time\n",
        "class MLSTMPyTorch(nn.Module):\n",
        "    def __init__(self, input_size, hidden_size):\n",
        "        super().__init__()\n",
        "        self.hidden_size = hidden_size\n",
        "        self.mlstm_cell = MLSTMCellPyTorch(input_size, hidden_size)\n",
        "\n",
        "        self.W_out = nn.Parameter(torch.randn(hidden_size, input_size) * 0.1)\n",
        "        self.b_out = nn.Parameter(torch.zeros(input_size))\n",
        "\n",
        "    def forward(self, X):\n",
        "        \"\"\"\n",
        "        X: [batch_size, seq_length, input_size]\n",
        "        \"\"\"\n",
        "        batch_size, seq_length, _ = X.shape\n",
        "        h = torch.zeros(batch_size, self.hidden_size, device=X.device)\n",
        "        c = torch.zeros(batch_size, self.hidden_size, device=X.device)\n",
        "\n",
        "        outputs = []\n",
        "        for t in range(seq_length):\n",
        "            x_t = X[:, t, :]\n",
        "            h, c = self.mlstm_cell(x_t, h, c)\n",
        "            out_t = h @ self.W_out + self.b_out\n",
        "            outputs.append(out_t.unsqueeze(1))\n",
        "\n",
        "        return torch.cat(outputs, dim=1)  # [batch_size, seq_length, input_size]\n"
      ],
      "metadata": {
        "id": "azp7dllFZkSl"
      },
      "execution_count": 30,
      "outputs": []
    },
    {
      "cell_type": "markdown",
      "source": [
        "## 3. Model Training"
      ],
      "metadata": {
        "id": "ZTW1VVsmZ3FN"
      }
    },
    {
      "cell_type": "markdown",
      "source": [
        "The model training"
      ],
      "metadata": {
        "id": "SegXxSo4NukJ"
      }
    },
    {
      "cell_type": "code",
      "source": [
        "import torch\n",
        "import torch.nn as nn\n",
        "import torch.optim as optim\n",
        "import time\n",
        "import random\n",
        "import numpy as np\n",
        "from torch.utils.data import DataLoader\n",
        "\n",
        "#------------------------------------------------------\n",
        "# PyTorch Benchmark\n",
        "#---------------------------------------------------\n",
        "def benchmark_pytorch(input_size, hidden_size, train_loader, val_loader, epochs, lr, plot=False):\n",
        "    model = MLSTMPyTorch(input_size, hidden_size)\n",
        "    optimizer = torch.optim.Adam(model.parameters(), lr=lr)\n",
        "    criterion = nn.CrossEntropyLoss()\n",
        "    device = torch.device(\"cuda\" if torch.cuda.is_available() else \"cpu\")\n",
        "    model.to(device)\n",
        "\n",
        "    # For plot\n",
        "    train_losses = []\n",
        "    val_losses = []\n",
        "    train_accuracies = []\n",
        "    val_accuracies = []\n",
        "\n",
        "    start_time = time.time()\n",
        "\n",
        "    for epoch in range(epochs):\n",
        "        total_loss = 0\n",
        "        correct = 0\n",
        "        total = 0\n",
        "\n",
        "        # Training Phase\n",
        "        model.train()\n",
        "        for inputs, targets in train_loader:\n",
        "            inputs, targets = inputs.to(device), targets.to(device)\n",
        "\n",
        "\n",
        "            inputs = nn.functional.one_hot(inputs, num_classes=input_size).float()\n",
        "\n",
        "            optimizer.zero_grad()\n",
        "            outputs = model(inputs)\n",
        "\n",
        "\n",
        "            loss = criterion(outputs.view(-1, input_size), targets.view(-1))\n",
        "            loss.backward()\n",
        "            optimizer.step()\n",
        "\n",
        "            total_loss += loss.item()\n",
        "\n",
        "            # accuracy\n",
        "            predictions = outputs.argmax(dim=-1)\n",
        "            correct += (predictions == targets).sum().item()\n",
        "            total += targets.numel()\n",
        "\n",
        "        train_accuracy = (correct / total) * 100\n",
        "        avg_train_loss = total_loss / len(train_loader)\n",
        "\n",
        "        # For plot\n",
        "        train_losses.append(avg_train_loss)\n",
        "        train_accuracies.append(train_accuracy)\n",
        "\n",
        "        # Validation Phase\n",
        "        model.eval()\n",
        "        val_loss = 0\n",
        "        val_correct = 0\n",
        "        val_total = 0\n",
        "        with torch.no_grad():\n",
        "            for inputs, targets in val_loader:\n",
        "                inputs, targets = inputs.to(device), targets.to(device)\n",
        "                inputs = nn.functional.one_hot(inputs, num_classes=input_size).float()\n",
        "                outputs = model(inputs)\n",
        "                loss = criterion(outputs.view(-1, input_size), targets.view(-1))\n",
        "                val_loss += loss.item()\n",
        "                predictions = outputs.argmax(dim=-1)\n",
        "                val_correct += (predictions == targets).sum().item()\n",
        "                val_total += targets.numel()\n",
        "\n",
        "        val_accuracy = (val_correct / val_total) * 100\n",
        "        avg_val_loss = val_loss / len(val_loader)\n",
        "\n",
        "        val_losses.append(avg_val_loss)\n",
        "        val_accuracies.append(val_accuracy)\n",
        "\n",
        "        print(f\"Epoch {epoch+1}/{epochs}, Train Loss: {avg_train_loss:.4f}, Train Accuracy: {train_accuracy:.2f}%, Val Loss: {avg_val_loss:.4f}, Val Accuracy: {val_accuracy:.2f}%\")\n",
        "\n",
        "    if plot:\n",
        "        plot_metrics(train_losses, val_losses, train_accuracies, val_accuracies, epochs)\n",
        "\n",
        "    return model, time.time() - start_time, avg_train_loss, avg_val_loss\n",
        "\n",
        "\n",
        "\n",
        "# ------- Training Standard GRU with Best Hyperparameters\n",
        "np.random.seed(42)\n",
        "torch.manual_seed(42)\n",
        "\n",
        "train_loader, val_loader, _ = get_dataloader(sequence_length=20, batch_size=best_b_size)\n",
        "\n",
        "best_model, training_time, _, _ = benchmark_pytorch(input_size=12, hidden_size=best_h_size, train_loader=train_loader, val_loader=val_loader, epochs=best_epochs, lr=best_lr, plot=True)\n",
        "\n",
        "torch.save(best_model.state_dict(), \"best_model_mLSTM.pth\")\n",
        "\n",
        "print(f\"\\nTraining ended in{training_time:.2f} s\")\n",
        "\n"
      ],
      "metadata": {
        "colab": {
          "base_uri": "https://localhost:8080/",
          "height": 615
        },
        "id": "VFWosUmWbeWm",
        "outputId": "fb1909ea-7f19-4439-8316-6dd0c1b8827d"
      },
      "execution_count": 33,
      "outputs": [
        {
          "output_type": "stream",
          "name": "stdout",
          "text": [
            "Epoch 1/10, Train Loss: 1.2797, Train Accuracy: 55.46%, Val Loss: 1.1297, Val Accuracy: 56.08%\n",
            "Epoch 2/10, Train Loss: 1.1253, Train Accuracy: 56.37%, Val Loss: 1.1218, Val Accuracy: 56.83%\n",
            "Epoch 3/10, Train Loss: 1.1177, Train Accuracy: 57.17%, Val Loss: 1.1062, Val Accuracy: 58.12%\n",
            "Epoch 4/10, Train Loss: 1.0813, Train Accuracy: 59.74%, Val Loss: 1.0631, Val Accuracy: 60.23%\n",
            "Epoch 5/10, Train Loss: 1.0441, Train Accuracy: 60.85%, Val Loss: 1.0254, Val Accuracy: 61.19%\n",
            "Epoch 6/10, Train Loss: 0.9942, Train Accuracy: 61.89%, Val Loss: 0.9735, Val Accuracy: 62.40%\n",
            "Epoch 7/10, Train Loss: 0.9580, Train Accuracy: 62.75%, Val Loss: 0.9399, Val Accuracy: 63.31%\n",
            "Epoch 8/10, Train Loss: 0.9225, Train Accuracy: 64.17%, Val Loss: 0.9118, Val Accuracy: 64.64%\n",
            "Epoch 9/10, Train Loss: 0.8933, Train Accuracy: 65.36%, Val Loss: 0.8822, Val Accuracy: 66.05%\n",
            "Epoch 10/10, Train Loss: 0.8643, Train Accuracy: 66.38%, Val Loss: 0.8575, Val Accuracy: 67.02%\n"
          ]
        },
        {
          "output_type": "display_data",
          "data": {
            "text/plain": [
              "<Figure size 700x400 with 2 Axes>"
            ],
            "image/png": "[encoded data removed]"
          },
          "metadata": {}
        },
        {
          "output_type": "stream",
          "name": "stdout",
          "text": [
            "\n",
            "Training ended in196.34 s\n"
          ]
        }
      ]
    },
    {
      "cell_type": "markdown",
      "source": [
        "The training results show an improvement. Both train and validation loss decrease, indicating that the model is learning well. Accuracy improves from 55.46% to 66.38% (train) and 56.08% to 67.02% (validation) over 10 epochs. The validation accuracy is close to training accuracy."
      ],
      "metadata": {
        "id": "5OZwFVxCxDYe"
      }
    },
    {
      "cell_type": "markdown",
      "source": [
        "## 4. Model Evaluation"
      ],
      "metadata": {
        "id": "DGcembBHblUH"
      }
    },
    {
      "cell_type": "code",
      "source": [
        "import torch\n",
        "import torch.nn as nn\n",
        "import numpy as np\n",
        "from scipy.stats import sem\n",
        "\n",
        "# ------------------------------------------------------\n",
        "# Evaluate model\n",
        "# ------------------------------------------------------\n",
        "def evaluate_model(model, test_loader, input_size):\n",
        "    model.eval()\n",
        "    loss_fn = nn.CrossEntropyLoss()\n",
        "    total_loss = 0\n",
        "    total_correct = 0\n",
        "    total_samples = 0\n",
        "\n",
        "    device = torch.device(\"cuda\" if torch.cuda.is_available() else \"cpu\")\n",
        "\n",
        "    with torch.no_grad():\n",
        "        for inputs, targets in test_loader:\n",
        "            inputs, targets = inputs.to(device), targets.to(device)\n",
        "\n",
        "            inputs = nn.functional.one_hot(inputs, num_classes=input_size).float()\n",
        "\n",
        "            predictions = model(inputs)\n",
        "            loss = loss_fn(predictions.view(-1, input_size), targets.view(-1))\n",
        "            total_loss += loss.item()\n",
        "\n",
        "            # accuracy\n",
        "            predicted_labels = predictions.argmax(dim=-1)\n",
        "            total_correct += (predicted_labels == targets).sum().item()\n",
        "            total_samples += targets.numel()\n",
        "\n",
        "    accuracy = (total_correct / total_samples) * 100\n",
        "    avg_loss = total_loss / len(test_loader)\n",
        "    return avg_loss, accuracy\n",
        "\n",
        "def full_evaluation(model, input_size, sequence_lengths=[100, 200, 500, 1000], trials=3):\n",
        "    model.eval()\n",
        "    device = torch.device(\"cuda\" if torch.cuda.is_available() else \"cpu\")\n",
        "\n",
        "    results = {}\n",
        "    print(\"\\nEvaluating\")\n",
        "\n",
        "    trial_accuracies = {T: [] for T in sequence_lengths}\n",
        "\n",
        "    for T in sequence_lengths:\n",
        "        print(f\"Evaluating in T={T}\")\n",
        "        _, _, test_loader = get_dataloader(sequence_length=T, batch_size=best_b_size)\n",
        "        for _ in range(trials):\n",
        "            loss, accuracy = evaluate_model(model, test_loader, input_size)\n",
        "            trial_accuracies[T].append(accuracy)\n",
        "\n",
        "    results = {\n",
        "        T: {\n",
        "            \"mean_accuracy\": np.mean(trial_accuracies[T]),\n",
        "            \"std_error\": sem(trial_accuracies[T])\n",
        "        } for T in sequence_lengths\n",
        "    }\n",
        "\n",
        "    print(\"\\nResults:\")\n",
        "    for T, metrics in results.items():\n",
        "        print(f\"T={T}: Accuracy={metrics['mean_accuracy']:.2f}% ± {metrics['std_error']:.2f}%\")\n",
        "\n",
        "    return results\n",
        "\n",
        "# ------------------------------------------------------\n",
        "# Load Trained Model and Execute Evaluation\n",
        "# ------------------------------------------------------\n",
        "print(\"\\nGetting trained model\")\n",
        "\n",
        "device = torch.device(\"cuda\" if torch.cuda.is_available() else \"cpu\")\n",
        "input_size = 12\n",
        "best_model =  MLSTMPyTorch(input_size=input_size, hidden_size=best_h_size).to(device)\n",
        "best_model.load_state_dict(torch.load(\"best_model_mLSTM.pth\", map_location=device))\n",
        "best_model.eval()\n",
        "\n",
        "print(\"\\n Eval model\")\n",
        "\n",
        "evaluation_results = full_evaluation(best_model, input_size)\n",
        "print(\"\\nEvaluation completed!\")\n"
      ],
      "metadata": {
        "colab": {
          "base_uri": "https://localhost:8080/"
        },
        "id": "sEQD4cdyeLiz",
        "outputId": "712e2bbd-d4ab-4ba6-e160-5cc629d9ba6b"
      },
      "execution_count": 34,
      "outputs": [
        {
          "output_type": "stream",
          "name": "stdout",
          "text": [
            "\n",
            "Getting trained model\n",
            "\n",
            " Eval model\n",
            "\n",
            "Evaluating\n",
            "Evaluating in T=100\n"
          ]
        },
        {
          "output_type": "stream",
          "name": "stderr",
          "text": [
            "<ipython-input-34-13ddc6ce4cbd>:74: FutureWarning: You are using `torch.load` with `weights_only=False` (the current default value), which uses the default pickle module implicitly. It is possible to construct malicious pickle data which will execute arbitrary code during unpickling (See https://github.com/pytorch/pytorch/blob/main/SECURITY.md#untrusted-models for more details). In a future release, the default value for `weights_only` will be flipped to `True`. This limits the functions that could be executed during unpickling. Arbitrary objects will no longer be allowed to be loaded via this mode unless they are explicitly allowlisted by the user via `torch.serialization.add_safe_globals`. We recommend you start setting `weights_only=True` for any use case where you don't have full control of the loaded file. Please open an issue on GitHub for any issues related to this experimental feature.\n",
            "  best_model.load_state_dict(torch.load(\"best_model_mLSTM.pth\", map_location=device))\n"
          ]
        },
        {
          "output_type": "stream",
          "name": "stdout",
          "text": [
            "Evaluating in T=200\n",
            "Evaluating in T=500\n",
            "Evaluating in T=1000\n",
            "\n",
            "Results:\n",
            "T=100: Accuracy=52.92% ± 0.00%\n",
            "T=200: Accuracy=51.47% ± 0.00%\n",
            "T=500: Accuracy=50.57% ± 0.00%\n",
            "T=1000: Accuracy=50.29% ± 0.00%\n",
            "\n",
            "Evaluation completed!\n"
          ]
        }
      ]
    },
    {
      "cell_type": "markdown",
      "source": [
        "For T=100, the accuracy is 52.92%, but for longer sequences as T=1000 if performed not that well. However, in general we got better results than the standard"
      ],
      "metadata": {
        "id": "FroE9kqIqkcy"
      }
    },
    {
      "cell_type": "markdown",
      "metadata": {
        "id": "jZUPj8Z4o_2i"
      },
      "source": [
        "# Standard GRU"
      ]
    },
    {
      "cell_type": "markdown",
      "source": [
        "## 1.Implementation of the model"
      ],
      "metadata": {
        "id": "bi5pGgB5x5Ks"
      }
    },
    {
      "cell_type": "code",
      "execution_count": 35,
      "metadata": {
        "id": "Ko-q6fOIpAzf"
      },
      "outputs": [],
      "source": [
        "import torch\n",
        "import torch.nn as nn\n",
        "\n",
        "#----------------------------------------\n",
        "# PyTorch Implementation of Standard GRU\n",
        "#----------------------------------------\n",
        "\n",
        "# ------- Single-Step GRU Cell\n",
        "class GRUCellPyTorch(nn.Module):\n",
        "    \"\"\"\n",
        "    A single-step GRU cell in PyTorch\n",
        "    \"\"\"\n",
        "    def __init__(self, input_size, hidden_size):\n",
        "        super().__init__()\n",
        "        self.hidden_size = hidden_size\n",
        "\n",
        "\n",
        "        self.W_z = nn.Parameter(torch.randn(input_size, hidden_size) * 0.1)\n",
        "        self.U_z = nn.Parameter(torch.randn(hidden_size, hidden_size) * 0.1)\n",
        "        self.b_z = nn.Parameter(torch.zeros(hidden_size))\n",
        "\n",
        "\n",
        "        self.W_r = nn.Parameter(torch.randn(input_size, hidden_size) * 0.1)\n",
        "        self.U_r = nn.Parameter(torch.randn(hidden_size, hidden_size) * 0.1)\n",
        "        self.b_r = nn.Parameter(torch.zeros(hidden_size))\n",
        "\n",
        "\n",
        "        self.W_h = nn.Parameter(torch.randn(input_size, hidden_size) * 0.1)\n",
        "        self.U_h = nn.Parameter(torch.randn(hidden_size, hidden_size) * 0.1)\n",
        "        self.b_h = nn.Parameter(torch.zeros(hidden_size))\n",
        "\n",
        "    def forward(self, x_t, h_prev):\n",
        "        \"\"\"\n",
        "        x_t: [batch_size, input_size]\n",
        "        h_prev: [batch_size, hidden_size]\n",
        "        \"\"\"\n",
        "        z_t = torch.sigmoid(x_t @ self.W_z + h_prev @ self.U_z + self.b_z)\n",
        "        r_t = torch.sigmoid(x_t @ self.W_r + h_prev @ self.U_r + self.b_r)\n",
        "        h_tilde = torch.tanh(x_t @ self.W_h + (r_t * h_prev) @ self.U_h + self.b_h)\n",
        "\n",
        "        h_t = (1 - z_t) * h_prev + z_t * h_tilde\n",
        "\n",
        "        return h_t\n",
        "\n",
        "# ------- Higher-level PyTorch GRU that unrolls over time\n",
        "class GRUPyTorch(nn.Module):\n",
        "    def __init__(self, input_size, hidden_size):\n",
        "        super().__init__()\n",
        "        self.hidden_size = hidden_size\n",
        "        self.gru_cell = GRUCellPyTorch(input_size, hidden_size)\n",
        "\n",
        "        self.W_out = nn.Parameter(torch.randn(hidden_size, input_size) * 0.1)\n",
        "        self.b_out = nn.Parameter(torch.zeros(input_size))\n",
        "\n",
        "    def forward(self, X):\n",
        "        \"\"\"\n",
        "        X: [batch_size, seq_length, input_size]\n",
        "        \"\"\"\n",
        "        batch_size, seq_length, _ = X.shape\n",
        "        h = torch.zeros(batch_size, self.hidden_size, device=X.device)\n",
        "\n",
        "        outputs = []\n",
        "        for t in range(seq_length):\n",
        "            x_t = X[:, t, :]\n",
        "            h = self.gru_cell(x_t, h)\n",
        "            out_t = h @ self.W_out + self.b_out\n",
        "            outputs.append(out_t.unsqueeze(1))\n",
        "\n",
        "        return torch.cat(outputs, dim=1)  # [batch_size, seq_length, input_size]\n"
      ]
    },
    {
      "cell_type": "markdown",
      "source": [
        "## 3. Model Training"
      ],
      "metadata": {
        "id": "JTWR4wsrzu1g"
      }
    },
    {
      "cell_type": "markdown",
      "source": [
        "Training with Validation"
      ],
      "metadata": {
        "id": "5LAmDwd7-X5H"
      }
    },
    {
      "cell_type": "code",
      "source": [
        "import torch\n",
        "import torch.nn as nn\n",
        "import torch.optim as optim\n",
        "import time\n",
        "import random\n",
        "import numpy as np\n",
        "from torch.utils.data import DataLoader\n",
        "\n",
        "#------------------------------------------------------\n",
        "# PyTorch Benchmark\n",
        "#---------------------------------------------------\n",
        "def benchmark_pytorch(input_size, hidden_size, train_loader, val_loader, epochs, lr, plot=False):\n",
        "    model = GRUPyTorch(input_size, hidden_size)\n",
        "    optimizer = torch.optim.Adam(model.parameters(), lr=lr)\n",
        "    criterion = nn.CrossEntropyLoss()\n",
        "    device = torch.device(\"cuda\" if torch.cuda.is_available() else \"cpu\")\n",
        "    model.to(device)\n",
        "\n",
        "    # For plot\n",
        "    train_losses = []\n",
        "    val_losses = []\n",
        "    train_accuracies = []\n",
        "    val_accuracies = []\n",
        "\n",
        "    start_time = time.time()\n",
        "\n",
        "    for epoch in range(epochs):\n",
        "        total_loss = 0\n",
        "        correct = 0\n",
        "        total = 0\n",
        "\n",
        "        # Training Phase\n",
        "        model.train()\n",
        "        for inputs, targets in train_loader:\n",
        "            inputs, targets = inputs.to(device), targets.to(device)\n",
        "\n",
        "\n",
        "            inputs = nn.functional.one_hot(inputs, num_classes=input_size).float()\n",
        "\n",
        "            optimizer.zero_grad()\n",
        "            outputs = model(inputs)\n",
        "\n",
        "\n",
        "            loss = criterion(outputs.view(-1, input_size), targets.view(-1))\n",
        "            loss.backward()\n",
        "            optimizer.step()\n",
        "\n",
        "            total_loss += loss.item()\n",
        "\n",
        "            # accuracy\n",
        "            predictions = outputs.argmax(dim=-1)\n",
        "            correct += (predictions == targets).sum().item()\n",
        "            total += targets.numel()\n",
        "\n",
        "        train_accuracy = (correct / total) * 100\n",
        "        avg_train_loss = total_loss / len(train_loader)\n",
        "\n",
        "        # For plot\n",
        "        train_losses.append(avg_train_loss)\n",
        "        train_accuracies.append(train_accuracy)\n",
        "\n",
        "        # Validation Phase\n",
        "        model.eval()\n",
        "        val_loss = 0\n",
        "        val_correct = 0\n",
        "        val_total = 0\n",
        "        with torch.no_grad():\n",
        "            for inputs, targets in val_loader:\n",
        "                inputs, targets = inputs.to(device), targets.to(device)\n",
        "                inputs = nn.functional.one_hot(inputs, num_classes=input_size).float()\n",
        "                outputs = model(inputs)\n",
        "                loss = criterion(outputs.view(-1, input_size), targets.view(-1))\n",
        "                val_loss += loss.item()\n",
        "                predictions = outputs.argmax(dim=-1)\n",
        "                val_correct += (predictions == targets).sum().item()\n",
        "                val_total += targets.numel()\n",
        "\n",
        "        val_accuracy = (val_correct / val_total) * 100\n",
        "        avg_val_loss = val_loss / len(val_loader)\n",
        "\n",
        "        val_losses.append(avg_val_loss)\n",
        "        val_accuracies.append(val_accuracy)\n",
        "\n",
        "        print(f\"Epoch {epoch+1}/{epochs}, Train Loss: {avg_train_loss:.4f}, Train Accuracy: {train_accuracy:.2f}%, Val Loss: {avg_val_loss:.4f}, Val Accuracy: {val_accuracy:.2f}%\")\n",
        "\n",
        "    if plot:\n",
        "        plot_metrics(train_losses, val_losses, train_accuracies, val_accuracies, epochs)\n",
        "\n",
        "    return model, time.time() - start_time, avg_train_loss, avg_val_loss\n",
        "\n",
        "\n",
        "\n",
        "# ------- Run Benchmark for Standard GRU with Best Hyperparameters\n",
        "np.random.seed(42)\n",
        "torch.manual_seed(42)\n",
        "\n",
        "train_loader, val_loader, _ = get_dataloader(sequence_length=20, batch_size=best_b_size)\n",
        "\n",
        "best_model, training_time, _, _ = benchmark_pytorch(input_size=12, hidden_size=best_h_size, train_loader=train_loader, val_loader=val_loader, epochs=best_epochs, lr=best_lr, plot=True)\n",
        "\n",
        "torch.save(best_model.state_dict(), \"best_model_GRU.pth\")\n",
        "\n",
        "print(f\"\\nTraining ended in{training_time:.2f} s\")\n",
        "\n"
      ],
      "metadata": {
        "colab": {
          "base_uri": "https://localhost:8080/",
          "height": 615
        },
        "id": "dy-NvqZkzwmU",
        "outputId": "f88c0ef9-9213-4d80-95fe-8126c909fedf"
      },
      "execution_count": 36,
      "outputs": [
        {
          "output_type": "stream",
          "name": "stdout",
          "text": [
            "Epoch 1/10, Train Loss: 1.2823, Train Accuracy: 54.95%, Val Loss: 1.1568, Val Accuracy: 56.21%\n",
            "Epoch 2/10, Train Loss: 1.1401, Train Accuracy: 56.08%, Val Loss: 1.1317, Val Accuracy: 56.24%\n",
            "Epoch 3/10, Train Loss: 1.1291, Train Accuracy: 56.21%, Val Loss: 1.1263, Val Accuracy: 56.70%\n",
            "Epoch 4/10, Train Loss: 1.1222, Train Accuracy: 56.92%, Val Loss: 1.1123, Val Accuracy: 58.20%\n",
            "Epoch 5/10, Train Loss: 1.0939, Train Accuracy: 59.08%, Val Loss: 1.0796, Val Accuracy: 59.98%\n",
            "Epoch 6/10, Train Loss: 1.0704, Train Accuracy: 60.35%, Val Loss: 1.0649, Val Accuracy: 60.78%\n",
            "Epoch 7/10, Train Loss: 1.0484, Train Accuracy: 61.32%, Val Loss: 1.0343, Val Accuracy: 62.02%\n",
            "Epoch 8/10, Train Loss: 1.0155, Train Accuracy: 62.69%, Val Loss: 1.0035, Val Accuracy: 63.04%\n",
            "Epoch 9/10, Train Loss: 0.9853, Train Accuracy: 63.87%, Val Loss: 0.9728, Val Accuracy: 64.54%\n",
            "Epoch 10/10, Train Loss: 0.9544, Train Accuracy: 65.10%, Val Loss: 0.9411, Val Accuracy: 65.76%\n"
          ]
        },
        {
          "output_type": "display_data",
          "data": {
            "text/plain": [
              "<Figure size 700x400 with 2 Axes>"
            ],
            "image/png": "[encoded data removed]"
          },
          "metadata": {}
        },
        {
          "output_type": "stream",
          "name": "stdout",
          "text": [
            "\n",
            "Training ended in131.30 s\n"
          ]
        }
      ]
    },
    {
      "cell_type": "markdown",
      "source": [
        "### Analysis of Model\n",
        "The training results for the standard GRU show a clear improvement over the 10 epochs. Both train and validation loss decrease, indicating that the model is learning well. Training accuracy increases from 54.95% to 65.10%, while validation accuracy improves from 56.21% to 65.76%. In comparison with the other models, this got good results."
      ],
      "metadata": {
        "id": "jES3ardvq-ku"
      }
    },
    {
      "cell_type": "markdown",
      "source": [
        "## 4. Evaluation"
      ],
      "metadata": {
        "id": "yrYOKaED2CRT"
      }
    },
    {
      "cell_type": "code",
      "source": [
        "import torch\n",
        "import torch.nn as nn\n",
        "import numpy as np\n",
        "from scipy.stats import sem\n",
        "\n",
        "# ------------------------------------------------------\n",
        "# Evaluate model\n",
        "# ------------------------------------------------------\n",
        "def evaluate_model(model, test_loader, input_size):\n",
        "    model.eval()\n",
        "    loss_fn = nn.CrossEntropyLoss()\n",
        "    total_loss = 0\n",
        "    total_correct = 0\n",
        "    total_samples = 0\n",
        "\n",
        "    device = torch.device(\"cuda\" if torch.cuda.is_available() else \"cpu\")\n",
        "\n",
        "    with torch.no_grad():\n",
        "        for inputs, targets in test_loader:\n",
        "            inputs, targets = inputs.to(device), targets.to(device)\n",
        "\n",
        "            inputs = nn.functional.one_hot(inputs, num_classes=input_size).float()\n",
        "\n",
        "            predictions = model(inputs)\n",
        "            loss = loss_fn(predictions.view(-1, input_size), targets.view(-1))\n",
        "            total_loss += loss.item()\n",
        "\n",
        "            # accuracy\n",
        "            predicted_labels = predictions.argmax(dim=-1)\n",
        "            total_correct += (predicted_labels == targets).sum().item()\n",
        "            total_samples += targets.numel()\n",
        "\n",
        "    accuracy = (total_correct / total_samples) * 100\n",
        "    avg_loss = total_loss / len(test_loader)\n",
        "    return avg_loss, accuracy\n",
        "\n",
        "def full_evaluation(model, input_size, sequence_lengths=[100, 200, 500, 1000], trials=3):\n",
        "    model.eval()\n",
        "    device = torch.device(\"cuda\" if torch.cuda.is_available() else \"cpu\")\n",
        "\n",
        "    results = {}\n",
        "    print(\"\\nEvaluating\")\n",
        "\n",
        "    trial_accuracies = {T: [] for T in sequence_lengths}\n",
        "\n",
        "    for T in sequence_lengths:\n",
        "        print(f\"Evaluating in T={T}\")\n",
        "        _, _, test_loader = get_dataloader(sequence_length=T, batch_size=best_b_size)\n",
        "        for _ in range(trials):\n",
        "            loss, accuracy = evaluate_model(model, test_loader, input_size)\n",
        "            trial_accuracies[T].append(accuracy)\n",
        "\n",
        "    results = {\n",
        "        T: {\n",
        "            \"mean_accuracy\": np.mean(trial_accuracies[T]),\n",
        "            \"std_error\": sem(trial_accuracies[T])\n",
        "        } for T in sequence_lengths\n",
        "    }\n",
        "\n",
        "    print(\"\\nResults:\")\n",
        "    for T, metrics in results.items():\n",
        "        print(f\"T={T}: Accuracy={metrics['mean_accuracy']:.2f}% ± {metrics['std_error']:.2f}%\")\n",
        "\n",
        "    return results\n",
        "\n",
        "# ------------------------------------------------------\n",
        "# Load Trained Model and Execute Evaluation\n",
        "# ------------------------------------------------------\n",
        "print(\"\\nGetting trained model\")\n",
        "\n",
        "device = torch.device(\"cuda\" if torch.cuda.is_available() else \"cpu\")\n",
        "input_size = 12\n",
        "best_model =  GRUPyTorch(input_size=input_size, hidden_size=best_h_size).to(device)\n",
        "best_model.load_state_dict(torch.load(\"best_model_GRU.pth\", map_location=device))\n",
        "best_model.eval()\n",
        "\n",
        "print(\"\\n Eval model\")\n",
        "\n",
        "evaluation_results = full_evaluation(best_model, input_size)\n",
        "print(\"\\nEvaluation completed\")\n"
      ],
      "metadata": {
        "colab": {
          "base_uri": "https://localhost:8080/"
        },
        "id": "zGd5nxsZ2EmY",
        "outputId": "ea06643a-e090-4ba1-b6fe-b6f9bcae4ae0"
      },
      "execution_count": 37,
      "outputs": [
        {
          "output_type": "stream",
          "name": "stdout",
          "text": [
            "\n",
            "Getting trained model\n",
            "\n",
            " Eval model\n",
            "\n",
            "Evaluating\n",
            "Evaluating in T=100\n"
          ]
        },
        {
          "output_type": "stream",
          "name": "stderr",
          "text": [
            "<ipython-input-37-e81438b1e1bd>:74: FutureWarning: You are using `torch.load` with `weights_only=False` (the current default value), which uses the default pickle module implicitly. It is possible to construct malicious pickle data which will execute arbitrary code during unpickling (See https://github.com/pytorch/pytorch/blob/main/SECURITY.md#untrusted-models for more details). In a future release, the default value for `weights_only` will be flipped to `True`. This limits the functions that could be executed during unpickling. Arbitrary objects will no longer be allowed to be loaded via this mode unless they are explicitly allowlisted by the user via `torch.serialization.add_safe_globals`. We recommend you start setting `weights_only=True` for any use case where you don't have full control of the loaded file. Please open an issue on GitHub for any issues related to this experimental feature.\n",
            "  best_model.load_state_dict(torch.load(\"best_model_GRU.pth\", map_location=device))\n"
          ]
        },
        {
          "output_type": "stream",
          "name": "stdout",
          "text": [
            "Evaluating in T=200\n",
            "Evaluating in T=500\n",
            "Evaluating in T=1000\n",
            "\n",
            "Results:\n",
            "T=100: Accuracy=55.30% ± 0.00%\n",
            "T=200: Accuracy=55.09% ± 0.00%\n",
            "T=500: Accuracy=55.03% ± 0.00%\n",
            "T=1000: Accuracy=55.02% ± 0.00%\n",
            "\n",
            "Evaluation completed\n"
          ]
        }
      ]
    },
    {
      "cell_type": "markdown",
      "source": [
        "In all of the sequences this model got similar results, suggesting that maintain performance."
      ],
      "metadata": {
        "id": "Lla17qYprWfE"
      }
    },
    {
      "cell_type": "markdown",
      "metadata": {
        "id": "nxRL5virpMTM"
      },
      "source": [
        "# Multiplicative GRU"
      ]
    },
    {
      "cell_type": "markdown",
      "source": [
        "## 1.Implementation of the model"
      ],
      "metadata": {
        "id": "PvretVKE433B"
      }
    },
    {
      "cell_type": "code",
      "execution_count": 40,
      "metadata": {
        "id": "RtASa2PwpOGX"
      },
      "outputs": [],
      "source": [
        "import torch\n",
        "import torch.nn as nn\n",
        "\n",
        "#----------------------------------------------\n",
        "# PyTorch Implementation of Multiplicative GRU\n",
        "#----------------------------------------------\n",
        "\n",
        "# ------- Single Step Multiplicative GRU Cell\n",
        "class MGRUCellPyTorch(nn.Module):\n",
        "    \"\"\"\n",
        "    A single-step Multiplicative GRU cell in PyTorch.\n",
        "    \"\"\"\n",
        "    def __init__(self, input_size, hidden_size):\n",
        "        super().__init__()\n",
        "        self.hidden_size = hidden_size\n",
        "        self.input_size = input_size\n",
        "\n",
        "        self.W_m = nn.Parameter(torch.randn(input_size, input_size) * 0.1)\n",
        "        self.U_m = nn.Parameter(torch.randn(hidden_size, input_size) * 0.1)\n",
        "        self.b_m = nn.Parameter(torch.zeros(input_size))\n",
        "\n",
        "        self.W_z = nn.Parameter(torch.randn(input_size, hidden_size) * 0.1)\n",
        "        self.U_z = nn.Parameter(torch.randn(hidden_size, hidden_size) * 0.1)\n",
        "        self.b_z = nn.Parameter(torch.zeros(hidden_size))\n",
        "\n",
        "        self.W_r = nn.Parameter(torch.randn(input_size, hidden_size) * 0.1)\n",
        "        self.U_r = nn.Parameter(torch.randn(hidden_size, hidden_size) * 0.1)\n",
        "        self.b_r = nn.Parameter(torch.zeros(hidden_size))\n",
        "\n",
        "        self.W_h = nn.Parameter(torch.randn(input_size, hidden_size) * 0.1)\n",
        "        self.U_h = nn.Parameter(torch.randn(hidden_size, hidden_size) * 0.1)\n",
        "        self.b_h = nn.Parameter(torch.zeros(hidden_size))\n",
        "\n",
        "    def forward(self, x_t, h_prev):\n",
        "        \"\"\"\n",
        "        x_t: [batch_size, input_size]\n",
        "        h_prev: [batch_size, hidden_size]\n",
        "        \"\"\"\n",
        "        m_t = x_t @ self.W_m + h_prev @ self.U_m + self.b_m\n",
        "\n",
        "        x_tilde = m_t * x_t\n",
        "\n",
        "        z_t = torch.sigmoid(x_tilde @ self.W_z + h_prev @ self.U_z + self.b_z)\n",
        "        r_t = torch.sigmoid(x_tilde @ self.W_r + h_prev @ self.U_r + self.b_r)\n",
        "        h_tilde = torch.tanh(x_tilde @ self.W_h + (r_t * h_prev) @ self.U_h + self.b_h)\n",
        "\n",
        "        h_t = (1 - z_t) * h_prev + z_t * h_tilde\n",
        "\n",
        "        return h_t\n",
        "\n",
        "# ------- Higher-level PyTorch MGRU that unrolls over time\n",
        "class MGRUPyTorch(nn.Module):\n",
        "    def __init__(self, input_size, hidden_size):\n",
        "        super().__init__()\n",
        "        self.hidden_size = hidden_size\n",
        "        self.mgru_cell = MGRUCellPyTorch(input_size, hidden_size)\n",
        "\n",
        "        self.W_out = nn.Parameter(torch.randn(hidden_size, input_size) * 0.1)\n",
        "        self.b_out = nn.Parameter(torch.zeros(input_size))\n",
        "\n",
        "    def forward(self, X):\n",
        "        \"\"\"\n",
        "        X: [batch_size, seq_length, input_size]\n",
        "        \"\"\"\n",
        "        batch_size, seq_length, _ = X.shape\n",
        "        h = torch.zeros(batch_size, self.hidden_size, device=X.device)\n",
        "\n",
        "        outputs = []\n",
        "        for t in range(seq_length):\n",
        "            x_t = X[:, t, :]\n",
        "            h = self.mgru_cell(x_t, h)\n",
        "            out_t = h @ self.W_out + self.b_out\n",
        "            outputs.append(out_t.unsqueeze(1))\n",
        "\n",
        "        return torch.cat(outputs, dim=1)  # [batch_size, seq_length, input_size]\n"
      ]
    },
    {
      "cell_type": "markdown",
      "source": [
        "## 3. Model Training"
      ],
      "metadata": {
        "id": "KF_WC9oH49xy"
      }
    },
    {
      "cell_type": "markdown",
      "source": [
        "Training with Validation"
      ],
      "metadata": {
        "id": "jFrt8zzH-xBG"
      }
    },
    {
      "cell_type": "code",
      "source": [
        "import torch\n",
        "import torch.nn as nn\n",
        "import torch.optim as optim\n",
        "import time\n",
        "import random\n",
        "import numpy as np\n",
        "from torch.utils.data import DataLoader\n",
        "\n",
        "#------------------------------------------------------\n",
        "# PyTorch Benchmark\n",
        "#---------------------------------------------------\n",
        "def benchmark_pytorch(input_size, hidden_size, train_loader, val_loader, epochs, lr, plot=False):\n",
        "    model = MGRUPyTorch(input_size, hidden_size)\n",
        "    optimizer = torch.optim.Adam(model.parameters(), lr=lr)\n",
        "    criterion = nn.CrossEntropyLoss()\n",
        "    device = torch.device(\"cuda\" if torch.cuda.is_available() else \"cpu\")\n",
        "    model.to(device)\n",
        "\n",
        "    # For plot\n",
        "    train_losses = []\n",
        "    val_losses = []\n",
        "    train_accuracies = []\n",
        "    val_accuracies = []\n",
        "\n",
        "    start_time = time.time()\n",
        "\n",
        "    for epoch in range(epochs):\n",
        "        total_loss = 0\n",
        "        correct = 0\n",
        "        total = 0\n",
        "\n",
        "        # Training Phase\n",
        "        model.train()\n",
        "        for inputs, targets in train_loader:\n",
        "            inputs, targets = inputs.to(device), targets.to(device)\n",
        "\n",
        "\n",
        "            inputs = nn.functional.one_hot(inputs, num_classes=input_size).float()\n",
        "\n",
        "            optimizer.zero_grad()\n",
        "            outputs = model(inputs)\n",
        "\n",
        "\n",
        "            loss = criterion(outputs.view(-1, input_size), targets.view(-1))\n",
        "            loss.backward()\n",
        "            optimizer.step()\n",
        "\n",
        "            total_loss += loss.item()\n",
        "\n",
        "            # accuracy\n",
        "            predictions = outputs.argmax(dim=-1)\n",
        "            correct += (predictions == targets).sum().item()\n",
        "            total += targets.numel()\n",
        "\n",
        "        train_accuracy = (correct / total) * 100\n",
        "        avg_train_loss = total_loss / len(train_loader)\n",
        "\n",
        "        # For plot\n",
        "        train_losses.append(avg_train_loss)\n",
        "        train_accuracies.append(train_accuracy)\n",
        "\n",
        "        # Validation Phase\n",
        "        model.eval()\n",
        "        val_loss = 0\n",
        "        val_correct = 0\n",
        "        val_total = 0\n",
        "        with torch.no_grad():\n",
        "            for inputs, targets in val_loader:\n",
        "                inputs, targets = inputs.to(device), targets.to(device)\n",
        "                inputs = nn.functional.one_hot(inputs, num_classes=input_size).float()\n",
        "                outputs = model(inputs)\n",
        "                loss = criterion(outputs.view(-1, input_size), targets.view(-1))\n",
        "                val_loss += loss.item()\n",
        "                predictions = outputs.argmax(dim=-1)\n",
        "                val_correct += (predictions == targets).sum().item()\n",
        "                val_total += targets.numel()\n",
        "\n",
        "        val_accuracy = (val_correct / val_total) * 100\n",
        "        avg_val_loss = val_loss / len(val_loader)\n",
        "\n",
        "        val_losses.append(avg_val_loss)\n",
        "        val_accuracies.append(val_accuracy)\n",
        "\n",
        "        print(f\"Epoch {epoch+1}/{epochs}, Train Loss: {avg_train_loss:.4f}, Train Accuracy: {train_accuracy:.2f}%, Val Loss: {avg_val_loss:.4f}, Val Accuracy: {val_accuracy:.2f}%\")\n",
        "\n",
        "    if plot:\n",
        "        plot_metrics(train_losses, val_losses, train_accuracies, val_accuracies, epochs)\n",
        "\n",
        "    return model, time.time() - start_time, avg_train_loss, avg_val_loss\n",
        "\n",
        "\n",
        "\n",
        "# ------- Run Benchmark for Standard GRU with Best Hyperparameters\n",
        "np.random.seed(42)\n",
        "torch.manual_seed(42)\n",
        "\n",
        "train_loader, val_loader, _ = get_dataloader(sequence_length=20, batch_size=best_b_size)\n",
        "\n",
        "best_model, training_time, _, _ = benchmark_pytorch(input_size=12, hidden_size=best_h_size, train_loader=train_loader, val_loader=val_loader, epochs=best_epochs, lr=best_lr, plot=True)\n",
        "\n",
        "torch.save(best_model.state_dict(), \"best_model_mGRU.pth\")\n",
        "\n",
        "print(f\"\\nTraining ended in{training_time:.2f} s\")\n",
        "\n"
      ],
      "metadata": {
        "colab": {
          "base_uri": "https://localhost:8080/",
          "height": 615
        },
        "id": "mli1aWy_4_14",
        "outputId": "a254c0a0-5470-4cae-a1f9-383732c1bf26"
      },
      "execution_count": 41,
      "outputs": [
        {
          "output_type": "stream",
          "name": "stdout",
          "text": [
            "Epoch 1/10, Train Loss: 1.3056, Train Accuracy: 55.60%, Val Loss: 1.1471, Val Accuracy: 57.15%\n",
            "Epoch 2/10, Train Loss: 1.1228, Train Accuracy: 58.31%, Val Loss: 1.1066, Val Accuracy: 58.77%\n",
            "Epoch 3/10, Train Loss: 1.0773, Train Accuracy: 59.99%, Val Loss: 1.0429, Val Accuracy: 61.00%\n",
            "Epoch 4/10, Train Loss: 1.0216, Train Accuracy: 61.80%, Val Loss: 1.0063, Val Accuracy: 62.02%\n",
            "Epoch 5/10, Train Loss: 0.9848, Train Accuracy: 62.87%, Val Loss: 0.9619, Val Accuracy: 63.68%\n",
            "Epoch 6/10, Train Loss: 0.9406, Train Accuracy: 64.32%, Val Loss: 0.9268, Val Accuracy: 64.95%\n",
            "Epoch 7/10, Train Loss: 0.9075, Train Accuracy: 65.22%, Val Loss: 0.8972, Val Accuracy: 65.28%\n",
            "Epoch 8/10, Train Loss: 0.8797, Train Accuracy: 65.88%, Val Loss: 0.8713, Val Accuracy: 65.74%\n",
            "Epoch 9/10, Train Loss: 0.8475, Train Accuracy: 66.84%, Val Loss: 0.8430, Val Accuracy: 66.81%\n",
            "Epoch 10/10, Train Loss: 0.8230, Train Accuracy: 67.71%, Val Loss: 0.8153, Val Accuracy: 67.95%\n"
          ]
        },
        {
          "output_type": "display_data",
          "data": {
            "text/plain": [
              "<Figure size 700x400 with 2 Axes>"
            ],
            "image/png": "[encoded data removed]"
          },
          "metadata": {}
        },
        {
          "output_type": "stream",
          "name": "stdout",
          "text": [
            "\n",
            "Training ended in151.78 s\n"
          ]
        }
      ]
    },
    {
      "cell_type": "markdown",
      "source": [
        "The results are showing how consistent improvement over 10 epochs. Training accuracy increases from 55.60% to 67.71%, while validation accuracy improves from 57.15% to 67.95%. Both train and validation loss decrease, indicating effective learning"
      ],
      "metadata": {
        "id": "GzXqpzHTsGST"
      }
    },
    {
      "cell_type": "markdown",
      "source": [
        "## 4. Model Evaluation"
      ],
      "metadata": {
        "id": "imkEqbvK5Uon"
      }
    },
    {
      "cell_type": "code",
      "source": [
        "import torch\n",
        "import torch.nn as nn\n",
        "import numpy as np\n",
        "from scipy.stats import sem\n",
        "\n",
        "# ------------------------------------------------------\n",
        "# Evaluate model\n",
        "# ------------------------------------------------------\n",
        "def evaluate_model(model, test_loader, input_size):\n",
        "    model.eval()\n",
        "    loss_fn = nn.CrossEntropyLoss()\n",
        "    total_loss = 0\n",
        "    total_correct = 0\n",
        "    total_samples = 0\n",
        "\n",
        "    device = torch.device(\"cuda\" if torch.cuda.is_available() else \"cpu\")\n",
        "\n",
        "    with torch.no_grad():\n",
        "        for inputs, targets in test_loader:\n",
        "            inputs, targets = inputs.to(device), targets.to(device)\n",
        "\n",
        "            inputs = nn.functional.one_hot(inputs, num_classes=input_size).float()\n",
        "\n",
        "            predictions = model(inputs)\n",
        "            loss = loss_fn(predictions.view(-1, input_size), targets.view(-1))\n",
        "            total_loss += loss.item()\n",
        "\n",
        "            # accuracy\n",
        "            predicted_labels = predictions.argmax(dim=-1)\n",
        "            total_correct += (predicted_labels == targets).sum().item()\n",
        "            total_samples += targets.numel()\n",
        "\n",
        "    accuracy = (total_correct / total_samples) * 100\n",
        "    avg_loss = total_loss / len(test_loader)\n",
        "    return avg_loss, accuracy\n",
        "\n",
        "def full_evaluation(model, input_size, sequence_lengths=[100, 200, 500, 1000], trials=3):\n",
        "    model.eval()\n",
        "    device = torch.device(\"cuda\" if torch.cuda.is_available() else \"cpu\")\n",
        "\n",
        "    results = {}\n",
        "    print(\"\\nEvaluating\")\n",
        "\n",
        "    trial_accuracies = {T: [] for T in sequence_lengths}\n",
        "\n",
        "    for T in sequence_lengths:\n",
        "        print(f\"Evaluating in T={T}\")\n",
        "        _, _, test_loader = get_dataloader(sequence_length=T, batch_size=best_b_size)\n",
        "        for _ in range(trials):\n",
        "            loss, accuracy = evaluate_model(model, test_loader, input_size)\n",
        "            trial_accuracies[T].append(accuracy)\n",
        "\n",
        "    results = {\n",
        "        T: {\n",
        "            \"mean_accuracy\": np.mean(trial_accuracies[T]),\n",
        "            \"std_error\": sem(trial_accuracies[T])\n",
        "        } for T in sequence_lengths\n",
        "    }\n",
        "\n",
        "    print(\"\\nResults:\")\n",
        "    for T, metrics in results.items():\n",
        "        print(f\"T={T}: Accuracy={metrics['mean_accuracy']:.2f}% ± {metrics['std_error']:.2f}%\")\n",
        "\n",
        "    return results\n",
        "\n",
        "# ------------------------------------------------------\n",
        "# Load Trained Model and Execute Evaluation\n",
        "# ------------------------------------------------------\n",
        "print(\"\\nGetting trained model\")\n",
        "\n",
        "device = torch.device(\"cuda\" if torch.cuda.is_available() else \"cpu\")\n",
        "input_size = 12\n",
        "best_model =  MGRUPyTorch(input_size=input_size, hidden_size=best_h_size).to(device)\n",
        "best_model.load_state_dict(torch.load(\"best_model_mGRU.pth\", map_location=device))\n",
        "best_model.eval()\n",
        "\n",
        "print(\"\\n Eval model\")\n",
        "\n",
        "evaluation_results = full_evaluation(best_model, input_size)\n",
        "print(\"\\nEvaluation completed\")\n"
      ],
      "metadata": {
        "colab": {
          "base_uri": "https://localhost:8080/"
        },
        "id": "lpL-qQeb5Wfh",
        "outputId": "3e95e17f-0a6e-4205-a1d0-5a843206d502"
      },
      "execution_count": 42,
      "outputs": [
        {
          "output_type": "stream",
          "name": "stdout",
          "text": [
            "\n",
            "Getting trained model\n",
            "\n",
            " Eval model\n",
            "\n",
            "Evaluating\n",
            "Evaluating in T=100\n"
          ]
        },
        {
          "output_type": "stream",
          "name": "stderr",
          "text": [
            "<ipython-input-42-caf628cca8a5>:74: FutureWarning: You are using `torch.load` with `weights_only=False` (the current default value), which uses the default pickle module implicitly. It is possible to construct malicious pickle data which will execute arbitrary code during unpickling (See https://github.com/pytorch/pytorch/blob/main/SECURITY.md#untrusted-models for more details). In a future release, the default value for `weights_only` will be flipped to `True`. This limits the functions that could be executed during unpickling. Arbitrary objects will no longer be allowed to be loaded via this mode unless they are explicitly allowlisted by the user via `torch.serialization.add_safe_globals`. We recommend you start setting `weights_only=True` for any use case where you don't have full control of the loaded file. Please open an issue on GitHub for any issues related to this experimental feature.\n",
            "  best_model.load_state_dict(torch.load(\"best_model_mGRU.pth\", map_location=device))\n"
          ]
        },
        {
          "output_type": "stream",
          "name": "stdout",
          "text": [
            "Evaluating in T=200\n",
            "Evaluating in T=500\n",
            "Evaluating in T=1000\n",
            "\n",
            "Results:\n",
            "T=100: Accuracy=54.47% ± 0.00%\n",
            "T=200: Accuracy=53.90% ± 0.00%\n",
            "T=500: Accuracy=53.70% ± 0.00%\n",
            "T=1000: Accuracy=53.61% ± 0.00%\n",
            "\n",
            "Evaluation completed\n"
          ]
        }
      ]
    },
    {
      "cell_type": "markdown",
      "source": [
        "The results for the Multiplicative GRU model show consistent accuracy across different sequence lengths. The accuracy remains stable, ranging from 54.47% at T=100 to 53.61% at T=1000. This suggests that the model performs similarly regardless of sequence length"
      ],
      "metadata": {
        "id": "6-FKJqOKsY2d"
      }
    },
    {
      "cell_type": "markdown",
      "source": [
        "# Conclusion\n",
        "\n",
        "The Multiplicative GRU was the best model for the Copy Task, showing the highest accuracy in both training and a similar to the others in evaluation, but multiplicative LSTM got very similar results.\n",
        "\n",
        "I consider that it was the best because it balances memory and efficiency. GRU already learns faster than LSTM because it has fewer parameters, and adding multiplicative connections helped it remember sequences better\n",
        "All models improved during training, but multiplicative LSTM and GRU remembered sequences better than their standard versions. Standard LSTM had the lowest accuracy, meaning it struggled with longer sequences. Multiplicative LSTM was better, but Multiplicative GRU was the strongest. I think that using multiplicative connections helps models remember information longer.\n",
        "Also, testing with different hyperparameters can help us in a future improving the results.\n",
        "\n",
        "But with all of this we learned a lot of the process of training, testing and validation. Finding best hyperparameters, implementing models with mathematical formulas and comparing their results."
      ],
      "metadata": {
        "id": "hggEGEvRshXb"
      }
    }
  ],
  "metadata": {
    "colab": {
      "provenance": [],
      "collapsed_sections": [
        "9ASGGgDfBYlk",
        "2FoY14DYF30t",
        "EebWef0dX7Lw",
        "i3JSxTC_Z0hB",
        "ZTW1VVsmZ3FN",
        "bi5pGgB5x5Ks",
        "KF_WC9oH49xy"
      ],
      "gpuType": "T4",
      "include_colab_link": true
    },
    "kernelspec": {
      "display_name": "Python 3",
      "name": "python3"
    },
    "language_info": {
      "name": "python"
    },
    "accelerator": "GPU"
  },
  "nbformat": 4,
  "nbformat_minor": 0
}